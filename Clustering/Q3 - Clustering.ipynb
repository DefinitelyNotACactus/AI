{
 "cells": [
  {
   "cell_type": "markdown",
   "metadata": {},
   "source": [
    "# Questão 3 - Clusterização\n",
    "\n",
    "Execute os algoritmos de agrupamento K-means e Hierárquico com diferentes valores de clusters e escolha o melhor resultado.\n",
    " \n",
    " \n",
    "Para o hierárquico, varie entre o single e complete linkage e analise os resultados obtidos.\n",
    "Para o k-means, inicialize os centroides aleatoriamente e avalie o impacto da inicialização nos resultados encontrados.\n",
    " \n",
    " \n",
    "<b>Bônus</b>: normalizar os dados e executar novamente os algoritmos para analisar os resultados gerados.\n",
    "Fazer visualização dos clusters encontrados com PCA ou t-SNE."
   ]
  },
  {
   "cell_type": "markdown",
   "metadata": {},
   "source": [
    "## Preliminares\n",
    "Importação de dependências, carregamento da base de dados e observação inicial dos dados."
   ]
  },
  {
   "cell_type": "code",
   "execution_count": 35,
   "metadata": {},
   "outputs": [],
   "source": [
    "import datetime\n",
    "import numpy as np\n",
    "import pandas as pd\n",
    "import matplotlib.pyplot as plt\n",
    "import seaborn as sns\n",
    "\n",
    "from sklearn import preprocessing\n",
    "from sklearn import decomposition\n",
    "from sklearn import cluster\n",
    "from sklearn import model_selection\n",
    "from sklearn import metrics"
   ]
  },
  {
   "cell_type": "code",
   "execution_count": 18,
   "metadata": {},
   "outputs": [
    {
     "data": {
      "text/html": [
       "<div>\n",
       "<style scoped>\n",
       "    .dataframe tbody tr th:only-of-type {\n",
       "        vertical-align: middle;\n",
       "    }\n",
       "\n",
       "    .dataframe tbody tr th {\n",
       "        vertical-align: top;\n",
       "    }\n",
       "\n",
       "    .dataframe thead th {\n",
       "        text-align: right;\n",
       "    }\n",
       "</style>\n",
       "<table border=\"1\" class=\"dataframe\">\n",
       "  <thead>\n",
       "    <tr style=\"text-align: right;\">\n",
       "      <th></th>\n",
       "      <th>status_id</th>\n",
       "      <th>status_type</th>\n",
       "      <th>status_published</th>\n",
       "      <th>num_reactions</th>\n",
       "      <th>num_comments</th>\n",
       "      <th>num_shares</th>\n",
       "      <th>num_likes</th>\n",
       "      <th>num_loves</th>\n",
       "      <th>num_wows</th>\n",
       "      <th>num_hahas</th>\n",
       "      <th>num_sads</th>\n",
       "      <th>num_angrys</th>\n",
       "      <th>Column1</th>\n",
       "      <th>Column2</th>\n",
       "      <th>Column3</th>\n",
       "      <th>Column4</th>\n",
       "    </tr>\n",
       "  </thead>\n",
       "  <tbody>\n",
       "    <tr>\n",
       "      <td>0</td>\n",
       "      <td>246675545449582_1649696485147474</td>\n",
       "      <td>video</td>\n",
       "      <td>4/22/2018 6:00</td>\n",
       "      <td>529</td>\n",
       "      <td>512</td>\n",
       "      <td>262</td>\n",
       "      <td>432</td>\n",
       "      <td>92</td>\n",
       "      <td>3</td>\n",
       "      <td>1</td>\n",
       "      <td>1</td>\n",
       "      <td>0</td>\n",
       "      <td>NaN</td>\n",
       "      <td>NaN</td>\n",
       "      <td>NaN</td>\n",
       "      <td>NaN</td>\n",
       "    </tr>\n",
       "    <tr>\n",
       "      <td>1</td>\n",
       "      <td>246675545449582_1649426988507757</td>\n",
       "      <td>photo</td>\n",
       "      <td>4/21/2018 22:45</td>\n",
       "      <td>150</td>\n",
       "      <td>0</td>\n",
       "      <td>0</td>\n",
       "      <td>150</td>\n",
       "      <td>0</td>\n",
       "      <td>0</td>\n",
       "      <td>0</td>\n",
       "      <td>0</td>\n",
       "      <td>0</td>\n",
       "      <td>NaN</td>\n",
       "      <td>NaN</td>\n",
       "      <td>NaN</td>\n",
       "      <td>NaN</td>\n",
       "    </tr>\n",
       "    <tr>\n",
       "      <td>2</td>\n",
       "      <td>246675545449582_1648730588577397</td>\n",
       "      <td>video</td>\n",
       "      <td>4/21/2018 6:17</td>\n",
       "      <td>227</td>\n",
       "      <td>236</td>\n",
       "      <td>57</td>\n",
       "      <td>204</td>\n",
       "      <td>21</td>\n",
       "      <td>1</td>\n",
       "      <td>1</td>\n",
       "      <td>0</td>\n",
       "      <td>0</td>\n",
       "      <td>NaN</td>\n",
       "      <td>NaN</td>\n",
       "      <td>NaN</td>\n",
       "      <td>NaN</td>\n",
       "    </tr>\n",
       "    <tr>\n",
       "      <td>3</td>\n",
       "      <td>246675545449582_1648576705259452</td>\n",
       "      <td>photo</td>\n",
       "      <td>4/21/2018 2:29</td>\n",
       "      <td>111</td>\n",
       "      <td>0</td>\n",
       "      <td>0</td>\n",
       "      <td>111</td>\n",
       "      <td>0</td>\n",
       "      <td>0</td>\n",
       "      <td>0</td>\n",
       "      <td>0</td>\n",
       "      <td>0</td>\n",
       "      <td>NaN</td>\n",
       "      <td>NaN</td>\n",
       "      <td>NaN</td>\n",
       "      <td>NaN</td>\n",
       "    </tr>\n",
       "    <tr>\n",
       "      <td>4</td>\n",
       "      <td>246675545449582_1645700502213739</td>\n",
       "      <td>photo</td>\n",
       "      <td>4/18/2018 3:22</td>\n",
       "      <td>213</td>\n",
       "      <td>0</td>\n",
       "      <td>0</td>\n",
       "      <td>204</td>\n",
       "      <td>9</td>\n",
       "      <td>0</td>\n",
       "      <td>0</td>\n",
       "      <td>0</td>\n",
       "      <td>0</td>\n",
       "      <td>NaN</td>\n",
       "      <td>NaN</td>\n",
       "      <td>NaN</td>\n",
       "      <td>NaN</td>\n",
       "    </tr>\n",
       "  </tbody>\n",
       "</table>\n",
       "</div>"
      ],
      "text/plain": [
       "                          status_id status_type status_published  \\\n",
       "0  246675545449582_1649696485147474       video   4/22/2018 6:00   \n",
       "1  246675545449582_1649426988507757       photo  4/21/2018 22:45   \n",
       "2  246675545449582_1648730588577397       video   4/21/2018 6:17   \n",
       "3  246675545449582_1648576705259452       photo   4/21/2018 2:29   \n",
       "4  246675545449582_1645700502213739       photo   4/18/2018 3:22   \n",
       "\n",
       "   num_reactions  num_comments  num_shares  num_likes  num_loves  num_wows  \\\n",
       "0            529           512         262        432         92         3   \n",
       "1            150             0           0        150          0         0   \n",
       "2            227           236          57        204         21         1   \n",
       "3            111             0           0        111          0         0   \n",
       "4            213             0           0        204          9         0   \n",
       "\n",
       "   num_hahas  num_sads  num_angrys  Column1  Column2  Column3  Column4  \n",
       "0          1         1           0      NaN      NaN      NaN      NaN  \n",
       "1          0         0           0      NaN      NaN      NaN      NaN  \n",
       "2          1         0           0      NaN      NaN      NaN      NaN  \n",
       "3          0         0           0      NaN      NaN      NaN      NaN  \n",
       "4          0         0           0      NaN      NaN      NaN      NaN  "
      ]
     },
     "execution_count": 18,
     "metadata": {},
     "output_type": "execute_result"
    }
   ],
   "source": [
    "df = pd.read_csv('Live.csv', delimiter = ',') # Abrir base de dados\n",
    "\n",
    "df.head()"
   ]
  },
  {
   "cell_type": "markdown",
   "metadata": {},
   "source": [
    "Uma análise inicial indica que as colunas 'Column1', 'Column2', 'Column3' e 'Column4' não contém alguma informação."
   ]
  },
  {
   "cell_type": "code",
   "execution_count": 19,
   "metadata": {},
   "outputs": [
    {
     "name": "stdout",
     "output_type": "stream",
     "text": [
      "<class 'pandas.core.frame.DataFrame'>\n",
      "RangeIndex: 7050 entries, 0 to 7049\n",
      "Data columns (total 16 columns):\n",
      "status_id           7050 non-null object\n",
      "status_type         7050 non-null object\n",
      "status_published    7050 non-null object\n",
      "num_reactions       7050 non-null int64\n",
      "num_comments        7050 non-null int64\n",
      "num_shares          7050 non-null int64\n",
      "num_likes           7050 non-null int64\n",
      "num_loves           7050 non-null int64\n",
      "num_wows            7050 non-null int64\n",
      "num_hahas           7050 non-null int64\n",
      "num_sads            7050 non-null int64\n",
      "num_angrys          7050 non-null int64\n",
      "Column1             0 non-null float64\n",
      "Column2             0 non-null float64\n",
      "Column3             0 non-null float64\n",
      "Column4             0 non-null float64\n",
      "dtypes: float64(4), int64(9), object(3)\n",
      "memory usage: 881.4+ KB\n"
     ]
    }
   ],
   "source": [
    "df.info()"
   ]
  },
  {
   "cell_type": "markdown",
   "metadata": {},
   "source": [
    "Para se ter certeza desta observação, verifica-se a quantia de dados faltantes em cada coluna:"
   ]
  },
  {
   "cell_type": "code",
   "execution_count": 20,
   "metadata": {},
   "outputs": [
    {
     "data": {
      "text/plain": [
       "status_id              0\n",
       "status_type            0\n",
       "status_published       0\n",
       "num_reactions          0\n",
       "num_comments           0\n",
       "num_shares             0\n",
       "num_likes              0\n",
       "num_loves              0\n",
       "num_wows               0\n",
       "num_hahas              0\n",
       "num_sads               0\n",
       "num_angrys             0\n",
       "Column1             7050\n",
       "Column2             7050\n",
       "Column3             7050\n",
       "Column4             7050\n",
       "dtype: int64"
      ]
     },
     "execution_count": 20,
     "metadata": {},
     "output_type": "execute_result"
    }
   ],
   "source": [
    "df.isnull().sum()"
   ]
  },
  {
   "cell_type": "markdown",
   "metadata": {},
   "source": [
    "De fato estas 4 colunas não contém nenhuma informação, e portanto serão descartadas:"
   ]
  },
  {
   "cell_type": "code",
   "execution_count": 21,
   "metadata": {},
   "outputs": [],
   "source": [
    "df.drop(columns = ['Column1', 'Column2', 'Column3', 'Column4'], inplace = True)"
   ]
  },
  {
   "cell_type": "markdown",
   "metadata": {},
   "source": [
    "Após eliminar estas quatro colunas não restam atributos faltando, contudo ainda é necessário analisar melhor os atributos que não estão em formato numérico: 'status_id', 'status_type' e 'status_published', uma vez que é necessária fazer a conversão destes para poder serem usados pelo algoritmo de aprendizagem de máquina."
   ]
  },
  {
   "cell_type": "markdown",
   "metadata": {},
   "source": [
    "## Tratando atributos não numéricos"
   ]
  },
  {
   "cell_type": "code",
   "execution_count": 22,
   "metadata": {},
   "outputs": [
    {
     "name": "stdout",
     "output_type": "stream",
     "text": [
      "Valores únicos de status_id: ['246675545449582_1649696485147474' '246675545449582_1649426988507757'\n",
      " '246675545449582_1648730588577397' ...\n",
      " '1050855161656896_1060126464063099' '1050855161656896_1058663487542730'\n",
      " '1050855161656896_1050858841656528'] \n",
      "Tamanho: 6997 \n",
      "\n",
      "Valores únicos de status_type: ['video' 'photo' 'link' 'status'] \n",
      "Tamanho: 4 \n",
      "\n",
      "Valores únicos de status_published: ['4/22/2018 6:00' '4/21/2018 22:45' '4/21/2018 6:17' ... '9/21/2016 23:03'\n",
      " '9/20/2016 0:43' '9/10/2016 10:30'] \n",
      "Tamanho: 6913\n"
     ]
    }
   ],
   "source": [
    "unique = df['status_id'].unique()\n",
    "print(\"Valores únicos de status_id:\", unique, \"\\nTamanho:\", len(unique), \"\\n\")\n",
    "unique = df['status_type'].unique()\n",
    "print(\"Valores únicos de status_type:\", unique, \"\\nTamanho:\", len(unique), \"\\n\")\n",
    "unique = df['status_published'].unique()\n",
    "print(\"Valores únicos de status_published:\", unique, \"\\nTamanho:\", len(unique))"
   ]
  },
  {
   "cell_type": "markdown",
   "metadata": {},
   "source": [
    "O atributo status_type é o que possui a menor cardinalidade entre os atributos não numéricos, podendo assumir 4 valores diferentes.\n",
    "\n",
    "Enquanto o atributo status_published, apesar de ter vários valores distintos, aparenta se tratar da data e hora no qual uma publicação foi realizada, esta informação poderia ser dividida em mais atributos.\n",
    "\n",
    "Por fim, o status_id possui uma alta cardinalidade, pelo ver, este atributo parece conter um código identificador para cada publicação, contudo, não é possível garantir isso ainda, pois existem pelo menos um valor distinto deste atributo que ocorre mais de uma vez nesta base de dados."
   ]
  },
  {
   "cell_type": "markdown",
   "metadata": {},
   "source": [
    "### status_type\n",
    "Este atributo é do tipo categórico e deve ser convertido para númerico usando one-hot encoding:"
   ]
  },
  {
   "cell_type": "code",
   "execution_count": 23,
   "metadata": {},
   "outputs": [
    {
     "data": {
      "text/html": [
       "<div>\n",
       "<style scoped>\n",
       "    .dataframe tbody tr th:only-of-type {\n",
       "        vertical-align: middle;\n",
       "    }\n",
       "\n",
       "    .dataframe tbody tr th {\n",
       "        vertical-align: top;\n",
       "    }\n",
       "\n",
       "    .dataframe thead th {\n",
       "        text-align: right;\n",
       "    }\n",
       "</style>\n",
       "<table border=\"1\" class=\"dataframe\">\n",
       "  <thead>\n",
       "    <tr style=\"text-align: right;\">\n",
       "      <th></th>\n",
       "      <th>status_id</th>\n",
       "      <th>status_published</th>\n",
       "      <th>num_reactions</th>\n",
       "      <th>num_comments</th>\n",
       "      <th>num_shares</th>\n",
       "      <th>num_likes</th>\n",
       "      <th>num_loves</th>\n",
       "      <th>num_wows</th>\n",
       "      <th>num_hahas</th>\n",
       "      <th>num_sads</th>\n",
       "      <th>num_angrys</th>\n",
       "      <th>link</th>\n",
       "      <th>photo</th>\n",
       "      <th>status</th>\n",
       "      <th>video</th>\n",
       "    </tr>\n",
       "  </thead>\n",
       "  <tbody>\n",
       "    <tr>\n",
       "      <td>0</td>\n",
       "      <td>246675545449582_1649696485147474</td>\n",
       "      <td>4/22/2018 6:00</td>\n",
       "      <td>529</td>\n",
       "      <td>512</td>\n",
       "      <td>262</td>\n",
       "      <td>432</td>\n",
       "      <td>92</td>\n",
       "      <td>3</td>\n",
       "      <td>1</td>\n",
       "      <td>1</td>\n",
       "      <td>0</td>\n",
       "      <td>0</td>\n",
       "      <td>0</td>\n",
       "      <td>0</td>\n",
       "      <td>1</td>\n",
       "    </tr>\n",
       "    <tr>\n",
       "      <td>1</td>\n",
       "      <td>246675545449582_1649426988507757</td>\n",
       "      <td>4/21/2018 22:45</td>\n",
       "      <td>150</td>\n",
       "      <td>0</td>\n",
       "      <td>0</td>\n",
       "      <td>150</td>\n",
       "      <td>0</td>\n",
       "      <td>0</td>\n",
       "      <td>0</td>\n",
       "      <td>0</td>\n",
       "      <td>0</td>\n",
       "      <td>0</td>\n",
       "      <td>1</td>\n",
       "      <td>0</td>\n",
       "      <td>0</td>\n",
       "    </tr>\n",
       "    <tr>\n",
       "      <td>2</td>\n",
       "      <td>246675545449582_1648730588577397</td>\n",
       "      <td>4/21/2018 6:17</td>\n",
       "      <td>227</td>\n",
       "      <td>236</td>\n",
       "      <td>57</td>\n",
       "      <td>204</td>\n",
       "      <td>21</td>\n",
       "      <td>1</td>\n",
       "      <td>1</td>\n",
       "      <td>0</td>\n",
       "      <td>0</td>\n",
       "      <td>0</td>\n",
       "      <td>0</td>\n",
       "      <td>0</td>\n",
       "      <td>1</td>\n",
       "    </tr>\n",
       "    <tr>\n",
       "      <td>3</td>\n",
       "      <td>246675545449582_1648576705259452</td>\n",
       "      <td>4/21/2018 2:29</td>\n",
       "      <td>111</td>\n",
       "      <td>0</td>\n",
       "      <td>0</td>\n",
       "      <td>111</td>\n",
       "      <td>0</td>\n",
       "      <td>0</td>\n",
       "      <td>0</td>\n",
       "      <td>0</td>\n",
       "      <td>0</td>\n",
       "      <td>0</td>\n",
       "      <td>1</td>\n",
       "      <td>0</td>\n",
       "      <td>0</td>\n",
       "    </tr>\n",
       "    <tr>\n",
       "      <td>4</td>\n",
       "      <td>246675545449582_1645700502213739</td>\n",
       "      <td>4/18/2018 3:22</td>\n",
       "      <td>213</td>\n",
       "      <td>0</td>\n",
       "      <td>0</td>\n",
       "      <td>204</td>\n",
       "      <td>9</td>\n",
       "      <td>0</td>\n",
       "      <td>0</td>\n",
       "      <td>0</td>\n",
       "      <td>0</td>\n",
       "      <td>0</td>\n",
       "      <td>1</td>\n",
       "      <td>0</td>\n",
       "      <td>0</td>\n",
       "    </tr>\n",
       "  </tbody>\n",
       "</table>\n",
       "</div>"
      ],
      "text/plain": [
       "                          status_id status_published  num_reactions  \\\n",
       "0  246675545449582_1649696485147474   4/22/2018 6:00            529   \n",
       "1  246675545449582_1649426988507757  4/21/2018 22:45            150   \n",
       "2  246675545449582_1648730588577397   4/21/2018 6:17            227   \n",
       "3  246675545449582_1648576705259452   4/21/2018 2:29            111   \n",
       "4  246675545449582_1645700502213739   4/18/2018 3:22            213   \n",
       "\n",
       "   num_comments  num_shares  num_likes  num_loves  num_wows  num_hahas  \\\n",
       "0           512         262        432         92         3          1   \n",
       "1             0           0        150          0         0          0   \n",
       "2           236          57        204         21         1          1   \n",
       "3             0           0        111          0         0          0   \n",
       "4             0           0        204          9         0          0   \n",
       "\n",
       "   num_sads  num_angrys  link  photo  status  video  \n",
       "0         1           0     0      0       0      1  \n",
       "1         0           0     0      1       0      0  \n",
       "2         0           0     0      0       0      1  \n",
       "3         0           0     0      1       0      0  \n",
       "4         0           0     0      1       0      0  "
      ]
     },
     "execution_count": 23,
     "metadata": {},
     "output_type": "execute_result"
    }
   ],
   "source": [
    "oh = pd.get_dummies(df['status_type'])\n",
    "\n",
    "df = df.drop(columns = ['status_type'])\n",
    "\n",
    "df = df.join(oh)\n",
    "\n",
    "df.head()"
   ]
  },
  {
   "cell_type": "markdown",
   "metadata": {},
   "source": [
    "### status_published\n",
    "Este atributo contém informações sobre a data e hora de uma publicação, então pode ser dividida em outros atributos, no caso serão criados os atributos 'day', 'month', 'year' e 'time' a partir do atributo original, sendo que 'time' será medido em minutos, com o propósito de combinar as horas com os minutos em uma coluna apenas."
   ]
  },
  {
   "cell_type": "code",
   "execution_count": 24,
   "metadata": {},
   "outputs": [
    {
     "data": {
      "text/html": [
       "<div>\n",
       "<style scoped>\n",
       "    .dataframe tbody tr th:only-of-type {\n",
       "        vertical-align: middle;\n",
       "    }\n",
       "\n",
       "    .dataframe tbody tr th {\n",
       "        vertical-align: top;\n",
       "    }\n",
       "\n",
       "    .dataframe thead th {\n",
       "        text-align: right;\n",
       "    }\n",
       "</style>\n",
       "<table border=\"1\" class=\"dataframe\">\n",
       "  <thead>\n",
       "    <tr style=\"text-align: right;\">\n",
       "      <th></th>\n",
       "      <th>status_id</th>\n",
       "      <th>num_reactions</th>\n",
       "      <th>num_comments</th>\n",
       "      <th>num_shares</th>\n",
       "      <th>num_likes</th>\n",
       "      <th>num_loves</th>\n",
       "      <th>num_wows</th>\n",
       "      <th>num_hahas</th>\n",
       "      <th>num_sads</th>\n",
       "      <th>num_angrys</th>\n",
       "      <th>link</th>\n",
       "      <th>photo</th>\n",
       "      <th>status</th>\n",
       "      <th>video</th>\n",
       "      <th>day</th>\n",
       "      <th>month</th>\n",
       "      <th>year</th>\n",
       "      <th>time</th>\n",
       "    </tr>\n",
       "  </thead>\n",
       "  <tbody>\n",
       "    <tr>\n",
       "      <td>0</td>\n",
       "      <td>246675545449582_1649696485147474</td>\n",
       "      <td>529</td>\n",
       "      <td>512</td>\n",
       "      <td>262</td>\n",
       "      <td>432</td>\n",
       "      <td>92</td>\n",
       "      <td>3</td>\n",
       "      <td>1</td>\n",
       "      <td>1</td>\n",
       "      <td>0</td>\n",
       "      <td>0</td>\n",
       "      <td>0</td>\n",
       "      <td>0</td>\n",
       "      <td>1</td>\n",
       "      <td>2018</td>\n",
       "      <td>22</td>\n",
       "      <td>4</td>\n",
       "      <td>360</td>\n",
       "    </tr>\n",
       "    <tr>\n",
       "      <td>1</td>\n",
       "      <td>246675545449582_1649426988507757</td>\n",
       "      <td>150</td>\n",
       "      <td>0</td>\n",
       "      <td>0</td>\n",
       "      <td>150</td>\n",
       "      <td>0</td>\n",
       "      <td>0</td>\n",
       "      <td>0</td>\n",
       "      <td>0</td>\n",
       "      <td>0</td>\n",
       "      <td>0</td>\n",
       "      <td>1</td>\n",
       "      <td>0</td>\n",
       "      <td>0</td>\n",
       "      <td>2018</td>\n",
       "      <td>21</td>\n",
       "      <td>4</td>\n",
       "      <td>1365</td>\n",
       "    </tr>\n",
       "    <tr>\n",
       "      <td>2</td>\n",
       "      <td>246675545449582_1648730588577397</td>\n",
       "      <td>227</td>\n",
       "      <td>236</td>\n",
       "      <td>57</td>\n",
       "      <td>204</td>\n",
       "      <td>21</td>\n",
       "      <td>1</td>\n",
       "      <td>1</td>\n",
       "      <td>0</td>\n",
       "      <td>0</td>\n",
       "      <td>0</td>\n",
       "      <td>0</td>\n",
       "      <td>0</td>\n",
       "      <td>1</td>\n",
       "      <td>2018</td>\n",
       "      <td>21</td>\n",
       "      <td>4</td>\n",
       "      <td>377</td>\n",
       "    </tr>\n",
       "    <tr>\n",
       "      <td>3</td>\n",
       "      <td>246675545449582_1648576705259452</td>\n",
       "      <td>111</td>\n",
       "      <td>0</td>\n",
       "      <td>0</td>\n",
       "      <td>111</td>\n",
       "      <td>0</td>\n",
       "      <td>0</td>\n",
       "      <td>0</td>\n",
       "      <td>0</td>\n",
       "      <td>0</td>\n",
       "      <td>0</td>\n",
       "      <td>1</td>\n",
       "      <td>0</td>\n",
       "      <td>0</td>\n",
       "      <td>2018</td>\n",
       "      <td>21</td>\n",
       "      <td>4</td>\n",
       "      <td>149</td>\n",
       "    </tr>\n",
       "    <tr>\n",
       "      <td>4</td>\n",
       "      <td>246675545449582_1645700502213739</td>\n",
       "      <td>213</td>\n",
       "      <td>0</td>\n",
       "      <td>0</td>\n",
       "      <td>204</td>\n",
       "      <td>9</td>\n",
       "      <td>0</td>\n",
       "      <td>0</td>\n",
       "      <td>0</td>\n",
       "      <td>0</td>\n",
       "      <td>0</td>\n",
       "      <td>1</td>\n",
       "      <td>0</td>\n",
       "      <td>0</td>\n",
       "      <td>2018</td>\n",
       "      <td>18</td>\n",
       "      <td>4</td>\n",
       "      <td>202</td>\n",
       "    </tr>\n",
       "  </tbody>\n",
       "</table>\n",
       "</div>"
      ],
      "text/plain": [
       "                          status_id  num_reactions  num_comments  num_shares  \\\n",
       "0  246675545449582_1649696485147474            529           512         262   \n",
       "1  246675545449582_1649426988507757            150             0           0   \n",
       "2  246675545449582_1648730588577397            227           236          57   \n",
       "3  246675545449582_1648576705259452            111             0           0   \n",
       "4  246675545449582_1645700502213739            213             0           0   \n",
       "\n",
       "   num_likes  num_loves  num_wows  num_hahas  num_sads  num_angrys  link  \\\n",
       "0        432         92         3          1         1           0     0   \n",
       "1        150          0         0          0         0           0     0   \n",
       "2        204         21         1          1         0           0     0   \n",
       "3        111          0         0          0         0           0     0   \n",
       "4        204          9         0          0         0           0     0   \n",
       "\n",
       "   photo  status  video   day  month  year  time  \n",
       "0      0       0      1  2018     22     4   360  \n",
       "1      1       0      0  2018     21     4  1365  \n",
       "2      0       0      1  2018     21     4   377  \n",
       "3      1       0      0  2018     21     4   149  \n",
       "4      1       0      0  2018     18     4   202  "
      ]
     },
     "execution_count": 24,
     "metadata": {},
     "output_type": "execute_result"
    }
   ],
   "source": [
    "dt = df['status_published'].to_list()\n",
    "times = []\n",
    "years = []\n",
    "months = []\n",
    "days = []\n",
    "\n",
    "for d in dt:\n",
    "    split = d.split(\" \")\n",
    "    split2 = split[0].split(\"/\")\n",
    "    \n",
    "    years.append(int(split2[0]))\n",
    "    months.append(int(split2[1]))\n",
    "    days.append(int(split2[2]))\n",
    "    \n",
    "    split2 = split[1].split(':')\n",
    "    times.append((int(split2[0]) * 60 + int(split2[1])))\n",
    "    \n",
    "dt_df = pd.DataFrame({\"day\": days, \"month\": months, \"year\": years, \"time\": times})\n",
    "\n",
    "df = df.join(dt_df)\n",
    "df.drop(columns = ['status_published'], inplace = True)\n",
    "\n",
    "df.head()"
   ]
  },
  {
   "cell_type": "markdown",
   "metadata": {},
   "source": [
    "### status_id\n",
    "Este atributo não me aparenta ter alguma utilidade original, imagino que se trata do valor identificador para uma publicação, contudo, darei uma segunda chance para este mostrar seu valor.\n",
    "\n",
    "Como os valores deste atributo estão separados por um '_', vejamos como a parte direita deste atributo se relaciona a parte esquerda:"
   ]
  },
  {
   "cell_type": "code",
   "execution_count": 25,
   "metadata": {},
   "outputs": [
    {
     "name": "stdout",
     "output_type": "stream",
     "text": [
      "Quantidade de valores únicos para left_status_id: 9\n"
     ]
    }
   ],
   "source": [
    "dt = df['status_id'].to_list()\n",
    "left = []\n",
    "right = []\n",
    "\n",
    "for d in dt:\n",
    "    split = d.split(\"_\")\n",
    "    left.append(split[0])\n",
    "    right.append(split[1])\n",
    "\n",
    "lr_df = pd.DataFrame({\"left_status_id\": left, \"right_status_id\": right})\n",
    "\n",
    "df = df.join(lr_df)\n",
    "df.drop(columns = ['status_id'], inplace = True)\n",
    "\n",
    "print(\"Quantidade de valores únicos para left_status_id:\" ,len(df['left_status_id'].unique()))"
   ]
  },
  {
   "cell_type": "markdown",
   "metadata": {},
   "source": [
    "O número de valores únicos para a parte esquerda é bastante baixo, contudo, não é possível fazer alguma conclusão sobre isso pelo fato de que talvez os valores atribuídos para a coluna 'status_id' original não sigam alguma ordem lógica (e.g. tenham sido gerados por alguma função de dispersão). \n",
    "\n",
    "Para tentar adquirir mais informações, com o propósito de facilitar a decisão a ser tomada em relação a este atributo, vejamos como os dois novos atributos se relacionam:"
   ]
  },
  {
   "cell_type": "code",
   "execution_count": 26,
   "metadata": {},
   "outputs": [
    {
     "name": "stdout",
     "output_type": "stream",
     "text": [
      "Valores únicos de right_status_id:  6997\n"
     ]
    }
   ],
   "source": [
    "unique = df['right_status_id'].unique()\n",
    "print(\"Valores únicos de right_status_id: \", len(unique))\n",
    "\n",
    "for unique_right in unique:\n",
    "    loc = df.loc[df['right_status_id'] == unique_right]\n",
    "    matches = loc['left_status_id'].unique()\n",
    "    if(len(matches) > 1): \n",
    "        print(\"left_status_id para\", unique_right, \":\", matches, \"\\nQuantidade: \", len(matches))"
   ]
  },
  {
   "cell_type": "markdown",
   "metadata": {},
   "source": [
    "Pela porção de código acima, o número de valores distintos de 'right_status_id' é igual ao número de valores distintos do atributo original 'status_id', e portanto, não foi encontrado um valor de 'right_status_id' que se relacione com mais de um valor de 'left_status_id'. O que leva a crer que este atributo se trata de um valor que permita identificar uma publicação na base dados.\n",
    "\n",
    "Com estas informações, a decisão tomada para este atributo é de simplesmente removê-lo da base de dados, pois não parece ter alguma informação relevante associada a ele."
   ]
  },
  {
   "cell_type": "code",
   "execution_count": 27,
   "metadata": {},
   "outputs": [],
   "source": [
    "df.drop(columns = ['left_status_id', 'right_status_id'], inplace = True)"
   ]
  },
  {
   "cell_type": "markdown",
   "metadata": {},
   "source": [
    "## Agrupamento sem normalização\n",
    "Nesta seção, são executados os algoritmos de agrupamento K-means e Hierárquico sem realizar uma normalização dos dados.\n",
    "\n",
    "O algoritmo kmeans será executado utilizando tanto a inicialização aleatória dos centróides como a inicialização padrão utilizada pelo scikit. Enquanto que o Hierárquico será executado usando a ligação individual e também o completo. \n",
    "\n",
    "Para todos os casos, serão executados os algoritmos usando um número de clusters variando entre 2 e 10. \n",
    "\n",
    "A métrica utilizada para avaliar a qualidade dos clusters obtidos será a média do coeficiente 'Silhueta' de todos os objetos, os valores destes coeficientes variam entre -1 e 1, sendo -1 o pior resultado e o 1 o melhor, valores próximos de 0 indicam clusters sobrepostos."
   ]
  },
  {
   "cell_type": "code",
   "execution_count": 28,
   "metadata": {},
   "outputs": [
    {
     "data": {
      "text/plain": [
       "<matplotlib.axes._subplots.AxesSubplot at 0x108960710>"
      ]
     },
     "execution_count": 28,
     "metadata": {},
     "output_type": "execute_result"
    },
    {
     "data": {
      "image/png": "[encoded data removed]",
      "text/plain": [
       "<Figure size 432x288 with 1 Axes>"
      ]
     },
     "metadata": {
      "needs_background": "light"
     },
     "output_type": "display_data"
    }
   ],
   "source": [
    "results = []\n",
    "\n",
    "for i in range(2, 10):\n",
    "    hierarchical_single = cluster.AgglomerativeClustering(n_clusters = i, linkage = \"single\")\n",
    "    hierarchical_complete = cluster.AgglomerativeClustering(n_clusters = i, linkage = \"complete\")\n",
    "    \n",
    "    kmeans_random = cluster.KMeans(n_clusters = i, init = \"random\").fit(df)\n",
    "    kmeans_default_init = cluster.KMeans(n_clusters = i).fit(df) #default init = k-means++\n",
    "\n",
    "    hierarchical_single_clustered =  df.assign(cluster_number = hierarchical_single.fit_predict(df))\n",
    "    hierarchical_complete_clustered =  df.assign(cluster_number = hierarchical_complete.fit_predict(df))\n",
    "    \n",
    "    kmeans_random_clustered = df.assign(cluster_number = kmeans_random.predict(df))\n",
    "    kmeans_default_init_clustered = df.assign(cluster_number = kmeans_default_init.predict(df))\n",
    "    \n",
    "    results.append({\"Number of clusters\": i, \n",
    "                    \"Hierarchical Single\": \n",
    "                    metrics.silhouette_score(hierarchical_single_clustered, labels = hierarchical_single_clustered['cluster_number']),\n",
    "                    \"Hierarchical Complete\":\n",
    "                    metrics.silhouette_score(hierarchical_complete_clustered, labels = hierarchical_complete_clustered['cluster_number']),\n",
    "                    \"K-Means Random Init\":\n",
    "                    metrics.silhouette_score(kmeans_random_clustered, labels = kmeans_random_clustered['cluster_number']),\n",
    "                    \"K-Means Default Init\":\n",
    "                    metrics.silhouette_score(kmeans_default_init_clustered, labels = kmeans_default_init_clustered['cluster_number'])})\n",
    "\n",
    "pd.DataFrame(results).plot.line(x = \"Number of clusters\",\n",
    "                                y = [\"Hierarchical Single\", \"Hierarchical Complete\", \"K-Means Random Init\", \"K-Means Default Init\"])"
   ]
  },
  {
   "cell_type": "markdown",
   "metadata": {},
   "source": [
    "Pela análise do gráfico acima, percebe-se que todos os algoritmos tiveram queda no valor do coeficiente 'Silhueta' conforme o número de clusters aumenta. Além disso, ambas as execuções usando o algoritmo Hierárquico tiveram desempenho superior à ambas execuções do K-Means utilizando essa métrica, sendo o Hierárquico com ligação simples melhor para um pequeno número de clusters (<= 6)."
   ]
  },
  {
   "cell_type": "markdown",
   "metadata": {},
   "source": [
    "## Normalização dos dados\n",
    "Normalizar os dados para reexecutar os algoritmos."
   ]
  },
  {
   "cell_type": "code",
   "execution_count": 50,
   "metadata": {},
   "outputs": [
    {
     "data": {
      "text/html": [
       "<div>\n",
       "<style scoped>\n",
       "    .dataframe tbody tr th:only-of-type {\n",
       "        vertical-align: middle;\n",
       "    }\n",
       "\n",
       "    .dataframe tbody tr th {\n",
       "        vertical-align: top;\n",
       "    }\n",
       "\n",
       "    .dataframe thead th {\n",
       "        text-align: right;\n",
       "    }\n",
       "</style>\n",
       "<table border=\"1\" class=\"dataframe\">\n",
       "  <thead>\n",
       "    <tr style=\"text-align: right;\">\n",
       "      <th></th>\n",
       "      <th>num_reactions</th>\n",
       "      <th>num_comments</th>\n",
       "      <th>num_shares</th>\n",
       "      <th>num_likes</th>\n",
       "      <th>num_loves</th>\n",
       "      <th>num_wows</th>\n",
       "      <th>num_hahas</th>\n",
       "      <th>num_sads</th>\n",
       "      <th>num_angrys</th>\n",
       "      <th>link</th>\n",
       "      <th>photo</th>\n",
       "      <th>status</th>\n",
       "      <th>video</th>\n",
       "      <th>day</th>\n",
       "      <th>month</th>\n",
       "      <th>year</th>\n",
       "      <th>time</th>\n",
       "    </tr>\n",
       "  </thead>\n",
       "  <tbody>\n",
       "    <tr>\n",
       "      <td>0</td>\n",
       "      <td>0.646104</td>\n",
       "      <td>0.323350</td>\n",
       "      <td>1.686879</td>\n",
       "      <td>0.482727</td>\n",
       "      <td>1.983266</td>\n",
       "      <td>0.196196</td>\n",
       "      <td>0.076713</td>\n",
       "      <td>0.473570</td>\n",
       "      <td>-0.155748</td>\n",
       "      <td>-0.094957</td>\n",
       "      <td>-1.245993</td>\n",
       "      <td>-0.233666</td>\n",
       "      <td>1.421466</td>\n",
       "      <td>0.832651</td>\n",
       "      <td>0.711213</td>\n",
       "      <td>-0.718661</td>\n",
       "      <td>-0.330879</td>\n",
       "    </tr>\n",
       "    <tr>\n",
       "      <td>1</td>\n",
       "      <td>-0.173192</td>\n",
       "      <td>-0.252206</td>\n",
       "      <td>-0.304144</td>\n",
       "      <td>-0.144720</td>\n",
       "      <td>-0.318454</td>\n",
       "      <td>-0.147879</td>\n",
       "      <td>-0.176010</td>\n",
       "      <td>-0.152587</td>\n",
       "      <td>-0.155748</td>\n",
       "      <td>-0.094957</td>\n",
       "      <td>0.802573</td>\n",
       "      <td>-0.233666</td>\n",
       "      <td>-0.703499</td>\n",
       "      <td>0.832651</td>\n",
       "      <td>0.596638</td>\n",
       "      <td>-0.718661</td>\n",
       "      <td>2.091085</td>\n",
       "    </tr>\n",
       "    <tr>\n",
       "      <td>2</td>\n",
       "      <td>-0.006738</td>\n",
       "      <td>0.013089</td>\n",
       "      <td>0.129017</td>\n",
       "      <td>-0.024571</td>\n",
       "      <td>0.206938</td>\n",
       "      <td>-0.033187</td>\n",
       "      <td>0.076713</td>\n",
       "      <td>-0.152587</td>\n",
       "      <td>-0.155748</td>\n",
       "      <td>-0.094957</td>\n",
       "      <td>-1.245993</td>\n",
       "      <td>-0.233666</td>\n",
       "      <td>1.421466</td>\n",
       "      <td>0.832651</td>\n",
       "      <td>0.596638</td>\n",
       "      <td>-0.718661</td>\n",
       "      <td>-0.289911</td>\n",
       "    </tr>\n",
       "    <tr>\n",
       "      <td>3</td>\n",
       "      <td>-0.257499</td>\n",
       "      <td>-0.252206</td>\n",
       "      <td>-0.304144</td>\n",
       "      <td>-0.231495</td>\n",
       "      <td>-0.318454</td>\n",
       "      <td>-0.147879</td>\n",
       "      <td>-0.176010</td>\n",
       "      <td>-0.152587</td>\n",
       "      <td>-0.155748</td>\n",
       "      <td>-0.094957</td>\n",
       "      <td>0.802573</td>\n",
       "      <td>-0.233666</td>\n",
       "      <td>-0.703499</td>\n",
       "      <td>0.832651</td>\n",
       "      <td>0.596638</td>\n",
       "      <td>-0.718661</td>\n",
       "      <td>-0.839371</td>\n",
       "    </tr>\n",
       "    <tr>\n",
       "      <td>4</td>\n",
       "      <td>-0.037003</td>\n",
       "      <td>-0.252206</td>\n",
       "      <td>-0.304144</td>\n",
       "      <td>-0.024571</td>\n",
       "      <td>-0.093286</td>\n",
       "      <td>-0.147879</td>\n",
       "      <td>-0.176010</td>\n",
       "      <td>-0.152587</td>\n",
       "      <td>-0.155748</td>\n",
       "      <td>-0.094957</td>\n",
       "      <td>0.802573</td>\n",
       "      <td>-0.233666</td>\n",
       "      <td>-0.703499</td>\n",
       "      <td>0.832651</td>\n",
       "      <td>0.252911</td>\n",
       "      <td>-0.718661</td>\n",
       "      <td>-0.711646</td>\n",
       "    </tr>\n",
       "  </tbody>\n",
       "</table>\n",
       "</div>"
      ],
      "text/plain": [
       "   num_reactions  num_comments  num_shares  num_likes  num_loves  num_wows  \\\n",
       "0       0.646104      0.323350    1.686879   0.482727   1.983266  0.196196   \n",
       "1      -0.173192     -0.252206   -0.304144  -0.144720  -0.318454 -0.147879   \n",
       "2      -0.006738      0.013089    0.129017  -0.024571   0.206938 -0.033187   \n",
       "3      -0.257499     -0.252206   -0.304144  -0.231495  -0.318454 -0.147879   \n",
       "4      -0.037003     -0.252206   -0.304144  -0.024571  -0.093286 -0.147879   \n",
       "\n",
       "   num_hahas  num_sads  num_angrys      link     photo    status     video  \\\n",
       "0   0.076713  0.473570   -0.155748 -0.094957 -1.245993 -0.233666  1.421466   \n",
       "1  -0.176010 -0.152587   -0.155748 -0.094957  0.802573 -0.233666 -0.703499   \n",
       "2   0.076713 -0.152587   -0.155748 -0.094957 -1.245993 -0.233666  1.421466   \n",
       "3  -0.176010 -0.152587   -0.155748 -0.094957  0.802573 -0.233666 -0.703499   \n",
       "4  -0.176010 -0.152587   -0.155748 -0.094957  0.802573 -0.233666 -0.703499   \n",
       "\n",
       "        day     month      year      time  \n",
       "0  0.832651  0.711213 -0.718661 -0.330879  \n",
       "1  0.832651  0.596638 -0.718661  2.091085  \n",
       "2  0.832651  0.596638 -0.718661 -0.289911  \n",
       "3  0.832651  0.596638 -0.718661 -0.839371  \n",
       "4  0.832651  0.252911 -0.718661 -0.711646  "
      ]
     },
     "execution_count": 50,
     "metadata": {},
     "output_type": "execute_result"
    }
   ],
   "source": [
    "scaler = preprocessing.StandardScaler()\n",
    "\n",
    "scaled = pd.DataFrame(scaler.fit_transform(df), columns = df.columns.values)\n",
    "\n",
    "scaled.head()"
   ]
  },
  {
   "cell_type": "code",
   "execution_count": 51,
   "metadata": {},
   "outputs": [
    {
     "data": {
      "text/plain": [
       "<matplotlib.axes._subplots.AxesSubplot at 0x1a23030fd0>"
      ]
     },
     "execution_count": 51,
     "metadata": {},
     "output_type": "execute_result"
    },
    {
     "data": {
      "image/png": "[encoded data removed]",
      "text/plain": [
       "<Figure size 432x288 with 1 Axes>"
      ]
     },
     "metadata": {
      "needs_background": "light"
     },
     "output_type": "display_data"
    }
   ],
   "source": [
    "results_scaled = []\n",
    "\n",
    "for i in range(2, 10):\n",
    "    hierarchical_single = cluster.AgglomerativeClustering(n_clusters = i, linkage = \"single\")\n",
    "    hierarchical_complete = cluster.AgglomerativeClustering(n_clusters = i, linkage = \"complete\")\n",
    "    \n",
    "    kmeans_random = cluster.KMeans(n_clusters = i, init = \"random\").fit(scaled)\n",
    "    kmeans_default_init = cluster.KMeans(n_clusters = i).fit(scaled) #default init = k-means++\n",
    "\n",
    "    hierarchical_single_clustered =  scaled.assign(cluster_number = hierarchical_single.fit_predict(scaled))\n",
    "    hierarchical_complete_clustered =  scaled.assign(cluster_number = hierarchical_complete.fit_predict(scaled))\n",
    "    \n",
    "    kmeans_random_clustered = scaled.assign(cluster_number = kmeans_random.predict(scaled))\n",
    "    kmeans_default_init_clustered = scaled.assign(cluster_number = kmeans_default_init.predict(scaled))\n",
    "    \n",
    "    results_scaled.append({\"Number of clusters\": i, \n",
    "                    \"Hierarchical Single\": \n",
    "                    metrics.silhouette_score(hierarchical_single_clustered, labels = hierarchical_single_clustered['cluster_number']),\n",
    "                    \"Hierarchical Complete\":\n",
    "                    metrics.silhouette_score(hierarchical_complete_clustered, labels = hierarchical_complete_clustered['cluster_number']),\n",
    "                    \"K-Means Random Init\":\n",
    "                    metrics.silhouette_score(kmeans_random_clustered, labels = kmeans_random_clustered['cluster_number']),\n",
    "                    \"K-Means Default Init\":\n",
    "                    metrics.silhouette_score(kmeans_default_init_clustered, labels = kmeans_default_init_clustered['cluster_number'])})\n",
    "    \n",
    "pd.DataFrame(results_scaled).plot.line(x = \"Number of clusters\",\n",
    "                                y = [\"Hierarchical Single\", \"Hierarchical Complete\", \"K-Means Random Init\", \"K-Means Default Init\"])"
   ]
  },
  {
   "cell_type": "markdown",
   "metadata": {},
   "source": [
    "A execução após a normalização apresentou resultados levemente melhores para o algoritmo Hierárquico quando o número de clusters aumenta, enquanto o K-Means caiu de performance drasticamente, contudo conforme o número de Clusters aumenta o desempenho do K-Means melhorou, porém ainda ficou abaixo do obtido com o Hierárquico.\n",
    "\n",
    "Pelo tamanho da base de dados (7050 entradas) talvez os algoritmos tenham um desempenho diferente com um número maior de clusters do que aquilo que foi testado acima, vejamos utilizando 100 clusters:"
   ]
  },
  {
   "cell_type": "code",
   "execution_count": 63,
   "metadata": {},
   "outputs": [
    {
     "name": "stdout",
     "output_type": "stream",
     "text": [
      "Sillhoutte Hierarquico Individual: 0.5518270033697849\n",
      "Sillhoutte Hierarquico Completo: 0.5297758520210256\n",
      "Sillhoutte K-Means aleatorio: 0.6248299917984553\n",
      "Sillhoutte K-Means padrao: 0.6619753502317226\n"
     ]
    }
   ],
   "source": [
    "hierarchical_single = cluster.AgglomerativeClustering(n_clusters = 100, linkage = \"single\")\n",
    "hierarchical_complete = cluster.AgglomerativeClustering(n_clusters = 100, linkage = \"complete\")\n",
    "\n",
    "kmeans_random = cluster.KMeans(n_clusters = 100, init = \"random\").fit(scaled)\n",
    "kmeans_default_init = cluster.KMeans(n_clusters = 100).fit(scaled) #default init = k-means++\n",
    "\n",
    "hierarchical_single_clustered =  scaled.assign(cluster_number = hierarchical_single.fit_predict(scaled))\n",
    "hierarchical_complete_clustered =  scaled.assign(cluster_number = hierarchical_complete.fit_predict(scaled))\n",
    "\n",
    "kmeans_random_clustered = scaled.assign(cluster_number = kmeans_random.predict(scaled))\n",
    "kmeans_default_init_clustered = scaled.assign(cluster_number = kmeans_default_init.predict(scaled))\n",
    "\n",
    "print(\"Sillhoutte Hierarquico Individual:\", metrics.silhouette_score(hierarchical_single_clustered, labels = hierarchical_single_clustered['cluster_number']))\n",
    "print(\"Sillhoutte Hierarquico Completo:\", metrics.silhouette_score(hierarchical_complete_clustered, labels = hierarchical_complete_clustered['cluster_number']))\n",
    "print(\"Sillhoutte K-Means aleatorio:\", metrics.silhouette_score(kmeans_random_clustered, labels = kmeans_random_clustered['cluster_number']))\n",
    "print(\"Sillhoutte K-Means padrao:\", metrics.silhouette_score(kmeans_default_init_clustered, labels = kmeans_default_init_clustered['cluster_number']))"
   ]
  },
  {
   "cell_type": "markdown",
   "metadata": {},
   "source": [
    "De fato, foram obtidos resultados melhores para o K-Means utilizando um número maior de clusters, enquanto o desempenho do Hierárquico caiu. \n",
    "\n",
    "Em relação ao número de clusters, os melhores desempenhos obtidos nos testes acima em todos os algoritmos foi para número de clusters igual a 2."
   ]
  },
  {
   "cell_type": "markdown",
   "metadata": {},
   "source": [
    "## Visualização dos Clusters\n",
    "Nesta seção é utilizada a redução de dimensionalidade usando a análise de componentes principais (PCA) para visualizar os clusters encontrados."
   ]
  },
  {
   "cell_type": "code",
   "execution_count": 81,
   "metadata": {},
   "outputs": [
    {
     "data": {
      "text/plain": [
       "<matplotlib.collections.PathCollection at 0x1a208e86d0>"
      ]
     },
     "execution_count": 81,
     "metadata": {},
     "output_type": "execute_result"
    },
    {
     "data": {
      "image/png": "[encoded data removed]",
      "text/plain": [
       "<Figure size 432x288 with 1 Axes>"
      ]
     },
     "metadata": {
      "needs_background": "light"
     },
     "output_type": "display_data"
    }
   ],
   "source": [
    "pca = decomposition.PCA(n_components = 2)\n",
    "pca_df = pd.DataFrame(pca.fit_transform(scaled))\n",
    "\n",
    "plt.scatter(pca_df[0], pca_df[1])"
   ]
  },
  {
   "cell_type": "code",
   "execution_count": 100,
   "metadata": {},
   "outputs": [
    {
     "name": "stdout",
     "output_type": "stream",
     "text": [
      "Sillhoutte Hierarquico Individual: 0.9081390023050183\n",
      "Sillhoutte Hierarquico Completo: 0.9081390023050183\n",
      "Sillhoutte K-Means aleatorio: 0.2689976357300386\n",
      "Sillhoutte K-Means padrao: 0.26899763573003876\n"
     ]
    }
   ],
   "source": [
    "hierarchical_single = cluster.AgglomerativeClustering(n_clusters = 2, linkage = \"single\")\n",
    "hierarchical_complete = cluster.AgglomerativeClustering(n_clusters = 2, linkage = \"complete\")\n",
    "\n",
    "kmeans_random = cluster.KMeans(n_clusters = 2, init = \"random\").fit(scaled)\n",
    "kmeans_default_init = cluster.KMeans(n_clusters = 2).fit(scaled) #default init = k-means++\n",
    "\n",
    "hierarchical_single_clustered =  pca_df.assign(cluster_number = hierarchical_single.fit_predict(scaled))\n",
    "hierarchical_complete_clustered =  pca_df.assign(cluster_number = hierarchical_complete.fit_predict(scaled))\n",
    "\n",
    "kmeans_random_clustered = scaled.assign(cluster_number = kmeans_random.predict(scaled))\n",
    "kmeans_default_init_clustered = scaled.assign(cluster_number = kmeans_default_init.predict(scaled))\n",
    "\n",
    "print(\"Sillhoutte Hierarquico Individual:\", metrics.silhouette_score(hierarchical_single_clustered, labels = hierarchical_single_clustered['cluster_number']))\n",
    "print(\"Sillhoutte Hierarquico Completo:\", metrics.silhouette_score(hierarchical_complete_clustered, labels = hierarchical_complete_clustered['cluster_number']))\n",
    "print(\"Sillhoutte K-Means aleatorio:\", metrics.silhouette_score(kmeans_random_clustered, labels = kmeans_random_clustered['cluster_number']))\n",
    "print(\"Sillhoutte K-Means padrao:\", metrics.silhouette_score(kmeans_default_init_clustered, labels = kmeans_default_init_clustered['cluster_number']))"
   ]
  },
  {
   "cell_type": "code",
   "execution_count": 101,
   "metadata": {},
   "outputs": [
    {
     "data": {
      "text/plain": [
       "<matplotlib.axes._subplots.AxesSubplot at 0x1a25ec1390>"
      ]
     },
     "execution_count": 101,
     "metadata": {},
     "output_type": "execute_result"
    },
    {
     "data": {
      "image/png": "[encoded data removed]",
      "text/plain": [
       "<Figure size 432x288 with 1 Axes>"
      ]
     },
     "metadata": {
      "needs_background": "light"
     },
     "output_type": "display_data"
    }
   ],
   "source": [
    "sns.scatterplot(x = pca_df[0], y = pca_df[1], hue = hierarchical_single_clustered['cluster_number'], legend = False)"
   ]
  },
  {
   "cell_type": "code",
   "execution_count": 102,
   "metadata": {},
   "outputs": [
    {
     "data": {
      "text/plain": [
       "<matplotlib.axes._subplots.AxesSubplot at 0x1a247fe810>"
      ]
     },
     "execution_count": 102,
     "metadata": {},
     "output_type": "execute_result"
    },
    {
     "data": {
      "image/png": "[encoded data removed]",
      "text/plain": [
       "<Figure size 432x288 with 1 Axes>"
      ]
     },
     "metadata": {
      "needs_background": "light"
     },
     "output_type": "display_data"
    }
   ],
   "source": [
    "sns.scatterplot(x = pca_df[0], y = pca_df[1], hue = hierarchical_complete_clustered['cluster_number'], legend = False)"
   ]
  },
  {
   "cell_type": "code",
   "execution_count": 103,
   "metadata": {},
   "outputs": [
    {
     "data": {
      "text/plain": [
       "<matplotlib.axes._subplots.AxesSubplot at 0x1a25e51110>"
      ]
     },
     "execution_count": 103,
     "metadata": {},
     "output_type": "execute_result"
    },
    {
     "data": {
      "image/png": "[encoded data removed]",
      "text/plain": [
       "<Figure size 432x288 with 1 Axes>"
      ]
     },
     "metadata": {
      "needs_background": "light"
     },
     "output_type": "display_data"
    }
   ],
   "source": [
    "sns.scatterplot(x = pca_df[0], y = pca_df[1], hue = kmeans_random_clustered['cluster_number'], legend = False)"
   ]
  },
  {
   "cell_type": "code",
   "execution_count": 104,
   "metadata": {},
   "outputs": [
    {
     "data": {
      "text/plain": [
       "<matplotlib.axes._subplots.AxesSubplot at 0x1a2627fe10>"
      ]
     },
     "execution_count": 104,
     "metadata": {},
     "output_type": "execute_result"
    },
    {
     "data": {
      "image/png": "[encoded data removed]",
      "text/plain": [
       "<Figure size 432x288 with 1 Axes>"
      ]
     },
     "metadata": {
      "needs_background": "light"
     },
     "output_type": "display_data"
    }
   ],
   "source": [
    "sns.scatterplot(x = pca_df[0], y = pca_df[1], hue = kmeans_default_init_clustered['cluster_number'], legend = False)"
   ]
  },
  {
   "cell_type": "code",
   "execution_count": null,
   "metadata": {},
   "outputs": [],
   "source": []
  }
 ],
 "metadata": {
  "kernelspec": {
   "display_name": "Python 3",
   "language": "python",
   "name": "python3"
  },
  "language_info": {
   "codemirror_mode": {
    "name": "ipython",
    "version": 3
   },
   "file_extension": ".py",
   "mimetype": "text/x-python",
   "name": "python",
   "nbconvert_exporter": "python",
   "pygments_lexer": "ipython3",
   "version": "3.7.4"
  }
 },
 "nbformat": 4,
 "nbformat_minor": 2
}
