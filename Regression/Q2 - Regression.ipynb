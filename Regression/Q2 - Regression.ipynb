{
 "cells": [
  {
   "cell_type": "markdown",
   "metadata": {},
   "source": [
    "# Questão 2 - Regressão\n",
    "Teste dois métodos de aprendizagem de máquina para identificar o que apresenta melhores resultados na previsão do volume de tráfego. Avaliem o impacto de usar validação cruzada (com 10 grupos) e split (70% para treinamento e 30% para teste). Para esse último, execute o experimento duas vezes selecionando as instâncias aleatoriamente para o treinamento e teste e avalie o impacto nos resultados.\n",
    "Outras informações como dia da semana podem ser inclusas.\n",
    " "
   ]
  },
  {
   "cell_type": "markdown",
   "metadata": {},
   "source": [
    "## Preliminares\n",
    "Importação de dependências, carregamento da base de dados e observação inicial dos dados."
   ]
  },
  {
   "cell_type": "code",
   "execution_count": 133,
   "metadata": {},
   "outputs": [],
   "source": [
    "import datetime\n",
    "import numpy as np\n",
    "import pandas as pd\n",
    "import matplotlib.pyplot as plt\n",
    "import seaborn as sns\n",
    "\n",
    "from sklearn import preprocessing\n",
    "from sklearn import neighbors\n",
    "from sklearn import tree\n",
    "from sklearn import model_selection\n",
    "from sklearn import metrics"
   ]
  },
  {
   "cell_type": "code",
   "execution_count": 134,
   "metadata": {},
   "outputs": [
    {
     "data": {
      "text/html": [
       "<div>\n",
       "<style scoped>\n",
       "    .dataframe tbody tr th:only-of-type {\n",
       "        vertical-align: middle;\n",
       "    }\n",
       "\n",
       "    .dataframe tbody tr th {\n",
       "        vertical-align: top;\n",
       "    }\n",
       "\n",
       "    .dataframe thead th {\n",
       "        text-align: right;\n",
       "    }\n",
       "</style>\n",
       "<table border=\"1\" class=\"dataframe\">\n",
       "  <thead>\n",
       "    <tr style=\"text-align: right;\">\n",
       "      <th></th>\n",
       "      <th>holiday</th>\n",
       "      <th>temp</th>\n",
       "      <th>rain_1h</th>\n",
       "      <th>snow_1h</th>\n",
       "      <th>clouds_all</th>\n",
       "      <th>weather_main</th>\n",
       "      <th>weather_description</th>\n",
       "      <th>date_time</th>\n",
       "      <th>traffic_volume</th>\n",
       "    </tr>\n",
       "  </thead>\n",
       "  <tbody>\n",
       "    <tr>\n",
       "      <td>0</td>\n",
       "      <td>None</td>\n",
       "      <td>288.28</td>\n",
       "      <td>0.0</td>\n",
       "      <td>0.0</td>\n",
       "      <td>40</td>\n",
       "      <td>Clouds</td>\n",
       "      <td>scattered clouds</td>\n",
       "      <td>2012-10-02 09:00:00</td>\n",
       "      <td>5545</td>\n",
       "    </tr>\n",
       "    <tr>\n",
       "      <td>1</td>\n",
       "      <td>None</td>\n",
       "      <td>289.36</td>\n",
       "      <td>0.0</td>\n",
       "      <td>0.0</td>\n",
       "      <td>75</td>\n",
       "      <td>Clouds</td>\n",
       "      <td>broken clouds</td>\n",
       "      <td>2012-10-02 10:00:00</td>\n",
       "      <td>4516</td>\n",
       "    </tr>\n",
       "    <tr>\n",
       "      <td>2</td>\n",
       "      <td>None</td>\n",
       "      <td>289.58</td>\n",
       "      <td>0.0</td>\n",
       "      <td>0.0</td>\n",
       "      <td>90</td>\n",
       "      <td>Clouds</td>\n",
       "      <td>overcast clouds</td>\n",
       "      <td>2012-10-02 11:00:00</td>\n",
       "      <td>4767</td>\n",
       "    </tr>\n",
       "    <tr>\n",
       "      <td>3</td>\n",
       "      <td>None</td>\n",
       "      <td>290.13</td>\n",
       "      <td>0.0</td>\n",
       "      <td>0.0</td>\n",
       "      <td>90</td>\n",
       "      <td>Clouds</td>\n",
       "      <td>overcast clouds</td>\n",
       "      <td>2012-10-02 12:00:00</td>\n",
       "      <td>5026</td>\n",
       "    </tr>\n",
       "    <tr>\n",
       "      <td>4</td>\n",
       "      <td>None</td>\n",
       "      <td>291.14</td>\n",
       "      <td>0.0</td>\n",
       "      <td>0.0</td>\n",
       "      <td>75</td>\n",
       "      <td>Clouds</td>\n",
       "      <td>broken clouds</td>\n",
       "      <td>2012-10-02 13:00:00</td>\n",
       "      <td>4918</td>\n",
       "    </tr>\n",
       "  </tbody>\n",
       "</table>\n",
       "</div>"
      ],
      "text/plain": [
       "  holiday    temp  rain_1h  snow_1h  clouds_all weather_main  \\\n",
       "0    None  288.28      0.0      0.0          40       Clouds   \n",
       "1    None  289.36      0.0      0.0          75       Clouds   \n",
       "2    None  289.58      0.0      0.0          90       Clouds   \n",
       "3    None  290.13      0.0      0.0          90       Clouds   \n",
       "4    None  291.14      0.0      0.0          75       Clouds   \n",
       "\n",
       "  weather_description            date_time  traffic_volume  \n",
       "0    scattered clouds  2012-10-02 09:00:00            5545  \n",
       "1       broken clouds  2012-10-02 10:00:00            4516  \n",
       "2     overcast clouds  2012-10-02 11:00:00            4767  \n",
       "3     overcast clouds  2012-10-02 12:00:00            5026  \n",
       "4       broken clouds  2012-10-02 13:00:00            4918  "
      ]
     },
     "execution_count": 134,
     "metadata": {},
     "output_type": "execute_result"
    }
   ],
   "source": [
    "df = pd.read_csv('Metro_Interstate_Traffic_Volume.csv', delimiter = ',') # Abrir base de dados\n",
    "\n",
    "df.head()"
   ]
  },
  {
   "cell_type": "code",
   "execution_count": 135,
   "metadata": {},
   "outputs": [
    {
     "name": "stdout",
     "output_type": "stream",
     "text": [
      "<class 'pandas.core.frame.DataFrame'>\n",
      "RangeIndex: 48204 entries, 0 to 48203\n",
      "Data columns (total 9 columns):\n",
      "holiday                48204 non-null object\n",
      "temp                   48204 non-null float64\n",
      "rain_1h                48204 non-null float64\n",
      "snow_1h                48204 non-null float64\n",
      "clouds_all             48204 non-null int64\n",
      "weather_main           48204 non-null object\n",
      "weather_description    48204 non-null object\n",
      "date_time              48204 non-null object\n",
      "traffic_volume         48204 non-null int64\n",
      "dtypes: float64(3), int64(2), object(4)\n",
      "memory usage: 3.3+ MB\n"
     ]
    }
   ],
   "source": [
    "df.info() # Obter informações sobre os atributos"
   ]
  },
  {
   "cell_type": "markdown",
   "metadata": {},
   "source": [
    "Os atributos do tipo object terão de ser analisados e convertidos para valores numéricos mais adiante, no caso de que venham a permanecer na base de dados."
   ]
  },
  {
   "cell_type": "code",
   "execution_count": 136,
   "metadata": {},
   "outputs": [
    {
     "data": {
      "text/plain": [
       "holiday                0\n",
       "temp                   0\n",
       "rain_1h                0\n",
       "snow_1h                0\n",
       "clouds_all             0\n",
       "weather_main           0\n",
       "weather_description    0\n",
       "date_time              0\n",
       "traffic_volume         0\n",
       "dtype: int64"
      ]
     },
     "execution_count": 136,
     "metadata": {},
     "output_type": "execute_result"
    }
   ],
   "source": [
    "df.isnull().sum() # Obter numero de valores faltando"
   ]
  },
  {
   "cell_type": "markdown",
   "metadata": {},
   "source": [
    "Como nenhum valor está faltando, nenhuma ação adicional foi tomada para corrigir dados ausentes."
   ]
  },
  {
   "cell_type": "markdown",
   "metadata": {},
   "source": [
    "## Tratando atributos não numéricos"
   ]
  },
  {
   "cell_type": "code",
   "execution_count": 137,
   "metadata": {},
   "outputs": [
    {
     "name": "stdout",
     "output_type": "stream",
     "text": [
      "Valores únicos de holiday: ['None' 'Columbus Day' 'Veterans Day' 'Thanksgiving Day' 'Christmas Day'\n",
      " 'New Years Day' 'Washingtons Birthday' 'Memorial Day' 'Independence Day'\n",
      " 'State Fair' 'Labor Day' 'Martin Luther King Jr Day'] \n",
      "\n",
      "Valores únicos de weather_main: ['Clouds' 'Clear' 'Rain' 'Drizzle' 'Mist' 'Haze' 'Fog' 'Thunderstorm'\n",
      " 'Snow' 'Squall' 'Smoke'] \n",
      "\n",
      "Valores únicos de weather_description: ['scattered clouds' 'broken clouds' 'overcast clouds' 'sky is clear'\n",
      " 'few clouds' 'light rain' 'light intensity drizzle' 'mist' 'haze' 'fog'\n",
      " 'proximity shower rain' 'drizzle' 'moderate rain' 'heavy intensity rain'\n",
      " 'proximity thunderstorm' 'thunderstorm with light rain'\n",
      " 'proximity thunderstorm with rain' 'heavy snow' 'heavy intensity drizzle'\n",
      " 'snow' 'thunderstorm with heavy rain' 'freezing rain' 'shower snow'\n",
      " 'light rain and snow' 'light intensity shower rain' 'SQUALLS'\n",
      " 'thunderstorm with rain' 'proximity thunderstorm with drizzle'\n",
      " 'thunderstorm' 'Sky is Clear' 'very heavy rain'\n",
      " 'thunderstorm with light drizzle' 'light snow'\n",
      " 'thunderstorm with drizzle' 'smoke' 'shower drizzle' 'light shower snow'\n",
      " 'sleet'] \n",
      "\n"
     ]
    }
   ],
   "source": [
    "print(\"Valores únicos de holiday:\", df['holiday'].unique(), \"\\n\")\n",
    "print(\"Valores únicos de weather_main:\", df['weather_main'].unique(), \"\\n\")\n",
    "print(\"Valores únicos de weather_description:\", df['weather_description'].unique(), \"\\n\")"
   ]
  },
  {
   "cell_type": "markdown",
   "metadata": {},
   "source": [
    "### Holiday"
   ]
  },
  {
   "cell_type": "code",
   "execution_count": 138,
   "metadata": {},
   "outputs": [
    {
     "name": "stdout",
     "output_type": "stream",
     "text": [
      "None                         48143\n",
      "Labor Day                        7\n",
      "Martin Luther King Jr Day        6\n",
      "Thanksgiving Day                 6\n",
      "Christmas Day                    6\n",
      "New Years Day                    6\n",
      "Columbus Day                     5\n",
      "Washingtons Birthday             5\n",
      "Veterans Day                     5\n",
      "State Fair                       5\n",
      "Independence Day                 5\n",
      "Memorial Day                     5\n",
      "Name: holiday, dtype: int64\n"
     ]
    },
    {
     "data": {
      "image/png": "[encoded data removed]",
      "text/plain": [
       "<Figure size 432x288 with 1 Axes>"
      ]
     },
     "metadata": {
      "needs_background": "light"
     },
     "output_type": "display_data"
    }
   ],
   "source": [
    "sns.countplot(df['holiday'])\n",
    "count = df['holiday'].value_counts()\n",
    "print(count)"
   ]
  },
  {
   "cell_type": "markdown",
   "metadata": {},
   "source": [
    "O atributo Holiday está bastante desbalanceado, o que é de se imaginar pois cada feriado só acontece uma vez por ano. Logo, foi optado por remover este atributo para evitar gerar um viés no resultado obtido."
   ]
  },
  {
   "cell_type": "code",
   "execution_count": 139,
   "metadata": {},
   "outputs": [],
   "source": [
    "df.drop(columns = ['holiday'], inplace = True)"
   ]
  },
  {
   "cell_type": "markdown",
   "metadata": {},
   "source": [
    "### weather_main e weather_description"
   ]
  },
  {
   "cell_type": "code",
   "execution_count": 140,
   "metadata": {},
   "outputs": [
    {
     "data": {
      "text/plain": [
       "Clouds          15164\n",
       "Clear           13391\n",
       "Mist             5950\n",
       "Rain             5672\n",
       "Snow             2876\n",
       "Drizzle          1821\n",
       "Haze             1360\n",
       "Thunderstorm     1034\n",
       "Fog               912\n",
       "Smoke              20\n",
       "Squall              4\n",
       "Name: weather_main, dtype: int64"
      ]
     },
     "execution_count": 140,
     "metadata": {},
     "output_type": "execute_result"
    },
    {
     "data": {
      "image/png": "[encoded data removed]",
      "text/plain": [
       "<Figure size 432x288 with 1 Axes>"
      ]
     },
     "metadata": {
      "needs_background": "light"
     },
     "output_type": "display_data"
    }
   ],
   "source": [
    "sns.countplot(df['weather_main'])\n",
    "count = df['weather_main'].value_counts()\n",
    "count"
   ]
  },
  {
   "cell_type": "code",
   "execution_count": 141,
   "metadata": {},
   "outputs": [
    {
     "data": {
      "text/plain": [
       "sky is clear                           11665\n",
       "mist                                    5950\n",
       "overcast clouds                         5081\n",
       "broken clouds                           4666\n",
       "scattered clouds                        3461\n",
       "light rain                              3372\n",
       "few clouds                              1956\n",
       "light snow                              1946\n",
       "Sky is Clear                            1726\n",
       "moderate rain                           1664\n",
       "haze                                    1360\n",
       "light intensity drizzle                 1100\n",
       "fog                                      912\n",
       "proximity thunderstorm                   673\n",
       "drizzle                                  651\n",
       "heavy snow                               616\n",
       "heavy intensity rain                     467\n",
       "snow                                     293\n",
       "proximity shower rain                    136\n",
       "thunderstorm                             125\n",
       "heavy intensity drizzle                   64\n",
       "thunderstorm with heavy rain              63\n",
       "thunderstorm with light rain              54\n",
       "proximity thunderstorm with rain          52\n",
       "thunderstorm with rain                    37\n",
       "smoke                                     20\n",
       "very heavy rain                           18\n",
       "thunderstorm with light drizzle           15\n",
       "light intensity shower rain               13\n",
       "proximity thunderstorm with drizzle       13\n",
       "light shower snow                         11\n",
       "shower drizzle                             6\n",
       "light rain and snow                        6\n",
       "SQUALLS                                    4\n",
       "sleet                                      3\n",
       "freezing rain                              2\n",
       "thunderstorm with drizzle                  2\n",
       "shower snow                                1\n",
       "Name: weather_description, dtype: int64"
      ]
     },
     "execution_count": 141,
     "metadata": {},
     "output_type": "execute_result"
    },
    {
     "data": {
      "image/png": "[encoded data removed]",
      "text/plain": [
       "<Figure size 432x288 with 1 Axes>"
      ]
     },
     "metadata": {
      "needs_background": "light"
     },
     "output_type": "display_data"
    }
   ],
   "source": [
    "sns.countplot(df['weather_description'])\n",
    "count = df['weather_description'].value_counts()\n",
    "count"
   ]
  },
  {
   "cell_type": "markdown",
   "metadata": {},
   "source": [
    "Há um certo grau de desbalanceamento nestas duas variáveis, sendo que weather_description funciona como uma extensão do weather_main, tanto que cada valor distinto de weather_description está associado ao mesmo valor de weather_main:"
   ]
  },
  {
   "cell_type": "code",
   "execution_count": 142,
   "metadata": {},
   "outputs": [
    {
     "name": "stdout",
     "output_type": "stream",
     "text": [
      "Descricoes para Clouds : ['scattered clouds' 'broken clouds' 'overcast clouds' 'few clouds']\n",
      "Descricoes para Clear : ['sky is clear' 'Sky is Clear']\n",
      "Descricoes para Rain : ['light rain' 'proximity shower rain' 'moderate rain'\n",
      " 'heavy intensity rain' 'freezing rain' 'light intensity shower rain'\n",
      " 'very heavy rain']\n",
      "Descricoes para Drizzle : ['light intensity drizzle' 'drizzle' 'heavy intensity drizzle'\n",
      " 'shower drizzle']\n",
      "Descricoes para Mist : ['mist']\n",
      "Descricoes para Haze : ['haze']\n",
      "Descricoes para Fog : ['fog']\n",
      "Descricoes para Thunderstorm : ['proximity thunderstorm' 'thunderstorm with light rain'\n",
      " 'proximity thunderstorm with rain' 'thunderstorm with heavy rain'\n",
      " 'thunderstorm with rain' 'proximity thunderstorm with drizzle'\n",
      " 'thunderstorm' 'thunderstorm with light drizzle'\n",
      " 'thunderstorm with drizzle']\n",
      "Descricoes para Snow : ['heavy snow' 'snow' 'shower snow' 'light rain and snow' 'light snow'\n",
      " 'light shower snow' 'sleet']\n",
      "Descricoes para Squall : ['SQUALLS']\n",
      "Descricoes para Smoke : ['smoke']\n"
     ]
    }
   ],
   "source": [
    "for unique_weather in df['weather_main'].unique() :\n",
    "    loc = df.loc[df['weather_main'] == unique_weather]\n",
    "    print(\"Descricoes para\", unique_weather, \":\", loc['weather_description'].unique())"
   ]
  },
  {
   "cell_type": "markdown",
   "metadata": {},
   "source": [
    "Tendo em vista isso, foi optado por remover ambos os atributos 'weather_main' e 'weather_description' da base de dados."
   ]
  },
  {
   "cell_type": "code",
   "execution_count": 143,
   "metadata": {},
   "outputs": [],
   "source": [
    "df.drop(columns = ['weather_description', 'weather_main'], inplace = True)"
   ]
  },
  {
   "cell_type": "markdown",
   "metadata": {},
   "source": [
    "### Date_time\n",
    "Pro caso do atributo 'date_time' além de conter informações como dia, mês, ano e hora, também pode ser usado para criar outros atributos, como o caso para dia da semana. Logo, foi optado por dividir este atributo em outros 5 (dia, mês, ano, hora e dia da semana), sendo estes todos atributos numéricos."
   ]
  },
  {
   "cell_type": "code",
   "execution_count": 144,
   "metadata": {},
   "outputs": [
    {
     "data": {
      "text/html": [
       "<div>\n",
       "<style scoped>\n",
       "    .dataframe tbody tr th:only-of-type {\n",
       "        vertical-align: middle;\n",
       "    }\n",
       "\n",
       "    .dataframe tbody tr th {\n",
       "        vertical-align: top;\n",
       "    }\n",
       "\n",
       "    .dataframe thead th {\n",
       "        text-align: right;\n",
       "    }\n",
       "</style>\n",
       "<table border=\"1\" class=\"dataframe\">\n",
       "  <thead>\n",
       "    <tr style=\"text-align: right;\">\n",
       "      <th></th>\n",
       "      <th>temp</th>\n",
       "      <th>rain_1h</th>\n",
       "      <th>snow_1h</th>\n",
       "      <th>clouds_all</th>\n",
       "      <th>traffic_volume</th>\n",
       "      <th>day</th>\n",
       "      <th>month</th>\n",
       "      <th>year</th>\n",
       "      <th>hour</th>\n",
       "      <th>weekday</th>\n",
       "    </tr>\n",
       "  </thead>\n",
       "  <tbody>\n",
       "    <tr>\n",
       "      <td>0</td>\n",
       "      <td>288.28</td>\n",
       "      <td>0.0</td>\n",
       "      <td>0.0</td>\n",
       "      <td>40</td>\n",
       "      <td>5545</td>\n",
       "      <td>2</td>\n",
       "      <td>10</td>\n",
       "      <td>2012</td>\n",
       "      <td>9</td>\n",
       "      <td>1</td>\n",
       "    </tr>\n",
       "    <tr>\n",
       "      <td>1</td>\n",
       "      <td>289.36</td>\n",
       "      <td>0.0</td>\n",
       "      <td>0.0</td>\n",
       "      <td>75</td>\n",
       "      <td>4516</td>\n",
       "      <td>2</td>\n",
       "      <td>10</td>\n",
       "      <td>2012</td>\n",
       "      <td>10</td>\n",
       "      <td>1</td>\n",
       "    </tr>\n",
       "    <tr>\n",
       "      <td>2</td>\n",
       "      <td>289.58</td>\n",
       "      <td>0.0</td>\n",
       "      <td>0.0</td>\n",
       "      <td>90</td>\n",
       "      <td>4767</td>\n",
       "      <td>2</td>\n",
       "      <td>10</td>\n",
       "      <td>2012</td>\n",
       "      <td>11</td>\n",
       "      <td>1</td>\n",
       "    </tr>\n",
       "    <tr>\n",
       "      <td>3</td>\n",
       "      <td>290.13</td>\n",
       "      <td>0.0</td>\n",
       "      <td>0.0</td>\n",
       "      <td>90</td>\n",
       "      <td>5026</td>\n",
       "      <td>2</td>\n",
       "      <td>10</td>\n",
       "      <td>2012</td>\n",
       "      <td>12</td>\n",
       "      <td>1</td>\n",
       "    </tr>\n",
       "    <tr>\n",
       "      <td>4</td>\n",
       "      <td>291.14</td>\n",
       "      <td>0.0</td>\n",
       "      <td>0.0</td>\n",
       "      <td>75</td>\n",
       "      <td>4918</td>\n",
       "      <td>2</td>\n",
       "      <td>10</td>\n",
       "      <td>2012</td>\n",
       "      <td>13</td>\n",
       "      <td>1</td>\n",
       "    </tr>\n",
       "    <tr>\n",
       "      <td>...</td>\n",
       "      <td>...</td>\n",
       "      <td>...</td>\n",
       "      <td>...</td>\n",
       "      <td>...</td>\n",
       "      <td>...</td>\n",
       "      <td>...</td>\n",
       "      <td>...</td>\n",
       "      <td>...</td>\n",
       "      <td>...</td>\n",
       "      <td>...</td>\n",
       "    </tr>\n",
       "    <tr>\n",
       "      <td>48199</td>\n",
       "      <td>283.45</td>\n",
       "      <td>0.0</td>\n",
       "      <td>0.0</td>\n",
       "      <td>75</td>\n",
       "      <td>3543</td>\n",
       "      <td>30</td>\n",
       "      <td>9</td>\n",
       "      <td>2018</td>\n",
       "      <td>19</td>\n",
       "      <td>6</td>\n",
       "    </tr>\n",
       "    <tr>\n",
       "      <td>48200</td>\n",
       "      <td>282.76</td>\n",
       "      <td>0.0</td>\n",
       "      <td>0.0</td>\n",
       "      <td>90</td>\n",
       "      <td>2781</td>\n",
       "      <td>30</td>\n",
       "      <td>9</td>\n",
       "      <td>2018</td>\n",
       "      <td>20</td>\n",
       "      <td>6</td>\n",
       "    </tr>\n",
       "    <tr>\n",
       "      <td>48201</td>\n",
       "      <td>282.73</td>\n",
       "      <td>0.0</td>\n",
       "      <td>0.0</td>\n",
       "      <td>90</td>\n",
       "      <td>2159</td>\n",
       "      <td>30</td>\n",
       "      <td>9</td>\n",
       "      <td>2018</td>\n",
       "      <td>21</td>\n",
       "      <td>6</td>\n",
       "    </tr>\n",
       "    <tr>\n",
       "      <td>48202</td>\n",
       "      <td>282.09</td>\n",
       "      <td>0.0</td>\n",
       "      <td>0.0</td>\n",
       "      <td>90</td>\n",
       "      <td>1450</td>\n",
       "      <td>30</td>\n",
       "      <td>9</td>\n",
       "      <td>2018</td>\n",
       "      <td>22</td>\n",
       "      <td>6</td>\n",
       "    </tr>\n",
       "    <tr>\n",
       "      <td>48203</td>\n",
       "      <td>282.12</td>\n",
       "      <td>0.0</td>\n",
       "      <td>0.0</td>\n",
       "      <td>90</td>\n",
       "      <td>954</td>\n",
       "      <td>30</td>\n",
       "      <td>9</td>\n",
       "      <td>2018</td>\n",
       "      <td>23</td>\n",
       "      <td>6</td>\n",
       "    </tr>\n",
       "  </tbody>\n",
       "</table>\n",
       "<p>48204 rows × 10 columns</p>\n",
       "</div>"
      ],
      "text/plain": [
       "         temp  rain_1h  snow_1h  clouds_all  traffic_volume  day  month  year  \\\n",
       "0      288.28      0.0      0.0          40            5545    2     10  2012   \n",
       "1      289.36      0.0      0.0          75            4516    2     10  2012   \n",
       "2      289.58      0.0      0.0          90            4767    2     10  2012   \n",
       "3      290.13      0.0      0.0          90            5026    2     10  2012   \n",
       "4      291.14      0.0      0.0          75            4918    2     10  2012   \n",
       "...       ...      ...      ...         ...             ...  ...    ...   ...   \n",
       "48199  283.45      0.0      0.0          75            3543   30      9  2018   \n",
       "48200  282.76      0.0      0.0          90            2781   30      9  2018   \n",
       "48201  282.73      0.0      0.0          90            2159   30      9  2018   \n",
       "48202  282.09      0.0      0.0          90            1450   30      9  2018   \n",
       "48203  282.12      0.0      0.0          90             954   30      9  2018   \n",
       "\n",
       "       hour  weekday  \n",
       "0         9        1  \n",
       "1        10        1  \n",
       "2        11        1  \n",
       "3        12        1  \n",
       "4        13        1  \n",
       "...     ...      ...  \n",
       "48199    19        6  \n",
       "48200    20        6  \n",
       "48201    21        6  \n",
       "48202    22        6  \n",
       "48203    23        6  \n",
       "\n",
       "[48204 rows x 10 columns]"
      ]
     },
     "execution_count": 144,
     "metadata": {},
     "output_type": "execute_result"
    }
   ],
   "source": [
    "#df['date_time'] = df['date_time'].apply(lambda s : s.split(\" \"))\n",
    "dt = df['date_time'].to_list()\n",
    "hours = []\n",
    "years = []\n",
    "months = []\n",
    "days = []\n",
    "weekdays = []\n",
    "\n",
    "for d in dt:\n",
    "    split = d.split(\" \")\n",
    "    split2 = split[0].split(\"-\")\n",
    "    \n",
    "    years.append(int(split2[0]))\n",
    "    months.append(int(split2[1]))\n",
    "    days.append(int(split2[2]))\n",
    "    \n",
    "    hours.append(int(split[1].split(':')[0]))\n",
    "\n",
    "for i in range(len(hours)):\n",
    "    weekdays.append(datetime.datetime(years[i], months[i], days[i]).weekday())\n",
    "    \n",
    "dt_df = pd.DataFrame({\"day\": days, \"month\": months, \"year\": years, \"hour\": hours, \"weekday\": weekdays})\n",
    "\n",
    "df = df.join(dt_df)\n",
    "df = df.drop(columns = ['date_time'])\n",
    "df"
   ]
  },
  {
   "cell_type": "markdown",
   "metadata": {},
   "source": [
    "## Analisando correlação"
   ]
  },
  {
   "cell_type": "code",
   "execution_count": 145,
   "metadata": {},
   "outputs": [
    {
     "data": {
      "text/html": [
       "<style  type=\"text/css\" >\n",
       "    #T_abe81c98_5598_11ea_91dc_acde48001122row0_col0 {\n",
       "            background-color:  #b40426;\n",
       "            color:  #f1f1f1;\n",
       "        }    #T_abe81c98_5598_11ea_91dc_acde48001122row0_col1 {\n",
       "            background-color:  #3f53c6;\n",
       "            color:  #f1f1f1;\n",
       "        }    #T_abe81c98_5598_11ea_91dc_acde48001122row0_col2 {\n",
       "            background-color:  #3b4cc0;\n",
       "            color:  #f1f1f1;\n",
       "        }    #T_abe81c98_5598_11ea_91dc_acde48001122row0_col3 {\n",
       "            background-color:  #3b4cc0;\n",
       "            color:  #f1f1f1;\n",
       "        }    #T_abe81c98_5598_11ea_91dc_acde48001122row0_col4 {\n",
       "            background-color:  #8badfd;\n",
       "            color:  #000000;\n",
       "        }    #T_abe81c98_5598_11ea_91dc_acde48001122row0_col5 {\n",
       "            background-color:  #445acc;\n",
       "            color:  #f1f1f1;\n",
       "        }    #T_abe81c98_5598_11ea_91dc_acde48001122row0_col6 {\n",
       "            background-color:  #a9c6fd;\n",
       "            color:  #000000;\n",
       "        }    #T_abe81c98_5598_11ea_91dc_acde48001122row0_col7 {\n",
       "            background-color:  #8db0fe;\n",
       "            color:  #000000;\n",
       "        }    #T_abe81c98_5598_11ea_91dc_acde48001122row0_col8 {\n",
       "            background-color:  #5f7fe8;\n",
       "            color:  #000000;\n",
       "        }    #T_abe81c98_5598_11ea_91dc_acde48001122row0_col9 {\n",
       "            background-color:  #6180e9;\n",
       "            color:  #000000;\n",
       "        }    #T_abe81c98_5598_11ea_91dc_acde48001122row1_col0 {\n",
       "            background-color:  #5977e3;\n",
       "            color:  #000000;\n",
       "        }    #T_abe81c98_5598_11ea_91dc_acde48001122row1_col1 {\n",
       "            background-color:  #b40426;\n",
       "            color:  #f1f1f1;\n",
       "        }    #T_abe81c98_5598_11ea_91dc_acde48001122row1_col2 {\n",
       "            background-color:  #3f53c6;\n",
       "            color:  #f1f1f1;\n",
       "        }    #T_abe81c98_5598_11ea_91dc_acde48001122row1_col3 {\n",
       "            background-color:  #5875e1;\n",
       "            color:  #000000;\n",
       "        }    #T_abe81c98_5598_11ea_91dc_acde48001122row1_col4 {\n",
       "            background-color:  #6485ec;\n",
       "            color:  #000000;\n",
       "        }    #T_abe81c98_5598_11ea_91dc_acde48001122row1_col5 {\n",
       "            background-color:  #3c4ec2;\n",
       "            color:  #f1f1f1;\n",
       "        }    #T_abe81c98_5598_11ea_91dc_acde48001122row1_col6 {\n",
       "            background-color:  #6687ed;\n",
       "            color:  #000000;\n",
       "        }    #T_abe81c98_5598_11ea_91dc_acde48001122row1_col7 {\n",
       "            background-color:  #6687ed;\n",
       "            color:  #000000;\n",
       "        }    #T_abe81c98_5598_11ea_91dc_acde48001122row1_col8 {\n",
       "            background-color:  #3e51c5;\n",
       "            color:  #f1f1f1;\n",
       "        }    #T_abe81c98_5598_11ea_91dc_acde48001122row1_col9 {\n",
       "            background-color:  #6180e9;\n",
       "            color:  #000000;\n",
       "        }    #T_abe81c98_5598_11ea_91dc_acde48001122row2_col0 {\n",
       "            background-color:  #516ddb;\n",
       "            color:  #000000;\n",
       "        }    #T_abe81c98_5598_11ea_91dc_acde48001122row2_col1 {\n",
       "            background-color:  #3c4ec2;\n",
       "            color:  #f1f1f1;\n",
       "        }    #T_abe81c98_5598_11ea_91dc_acde48001122row2_col2 {\n",
       "            background-color:  #b40426;\n",
       "            color:  #f1f1f1;\n",
       "        }    #T_abe81c98_5598_11ea_91dc_acde48001122row2_col3 {\n",
       "            background-color:  #5f7fe8;\n",
       "            color:  #000000;\n",
       "        }    #T_abe81c98_5598_11ea_91dc_acde48001122row2_col4 {\n",
       "            background-color:  #6384eb;\n",
       "            color:  #000000;\n",
       "        }    #T_abe81c98_5598_11ea_91dc_acde48001122row2_col5 {\n",
       "            background-color:  #4257c9;\n",
       "            color:  #f1f1f1;\n",
       "        }    #T_abe81c98_5598_11ea_91dc_acde48001122row2_col6 {\n",
       "            background-color:  #6b8df0;\n",
       "            color:  #000000;\n",
       "        }    #T_abe81c98_5598_11ea_91dc_acde48001122row2_col7 {\n",
       "            background-color:  #6485ec;\n",
       "            color:  #000000;\n",
       "        }    #T_abe81c98_5598_11ea_91dc_acde48001122row2_col8 {\n",
       "            background-color:  #3f53c6;\n",
       "            color:  #f1f1f1;\n",
       "        }    #T_abe81c98_5598_11ea_91dc_acde48001122row2_col9 {\n",
       "            background-color:  #5e7de7;\n",
       "            color:  #000000;\n",
       "        }    #T_abe81c98_5598_11ea_91dc_acde48001122row3_col0 {\n",
       "            background-color:  #3b4cc0;\n",
       "            color:  #f1f1f1;\n",
       "        }    #T_abe81c98_5598_11ea_91dc_acde48001122row3_col1 {\n",
       "            background-color:  #3d50c3;\n",
       "            color:  #f1f1f1;\n",
       "        }    #T_abe81c98_5598_11ea_91dc_acde48001122row3_col2 {\n",
       "            background-color:  #485fd1;\n",
       "            color:  #f1f1f1;\n",
       "        }    #T_abe81c98_5598_11ea_91dc_acde48001122row3_col3 {\n",
       "            background-color:  #b40426;\n",
       "            color:  #f1f1f1;\n",
       "        }    #T_abe81c98_5598_11ea_91dc_acde48001122row3_col4 {\n",
       "            background-color:  #779af7;\n",
       "            color:  #000000;\n",
       "        }    #T_abe81c98_5598_11ea_91dc_acde48001122row3_col5 {\n",
       "            background-color:  #4b64d5;\n",
       "            color:  #f1f1f1;\n",
       "        }    #T_abe81c98_5598_11ea_91dc_acde48001122row3_col6 {\n",
       "            background-color:  #6384eb;\n",
       "            color:  #000000;\n",
       "        }    #T_abe81c98_5598_11ea_91dc_acde48001122row3_col7 {\n",
       "            background-color:  #506bda;\n",
       "            color:  #000000;\n",
       "        }    #T_abe81c98_5598_11ea_91dc_acde48001122row3_col8 {\n",
       "            background-color:  #4e68d8;\n",
       "            color:  #000000;\n",
       "        }    #T_abe81c98_5598_11ea_91dc_acde48001122row3_col9 {\n",
       "            background-color:  #5875e1;\n",
       "            color:  #000000;\n",
       "        }    #T_abe81c98_5598_11ea_91dc_acde48001122row4_col0 {\n",
       "            background-color:  #7ea1fa;\n",
       "            color:  #000000;\n",
       "        }    #T_abe81c98_5598_11ea_91dc_acde48001122row4_col1 {\n",
       "            background-color:  #3d50c3;\n",
       "            color:  #f1f1f1;\n",
       "        }    #T_abe81c98_5598_11ea_91dc_acde48001122row4_col2 {\n",
       "            background-color:  #4055c8;\n",
       "            color:  #f1f1f1;\n",
       "        }    #T_abe81c98_5598_11ea_91dc_acde48001122row4_col3 {\n",
       "            background-color:  #6b8df0;\n",
       "            color:  #000000;\n",
       "        }    #T_abe81c98_5598_11ea_91dc_acde48001122row4_col4 {\n",
       "            background-color:  #b40426;\n",
       "            color:  #f1f1f1;\n",
       "        }    #T_abe81c98_5598_11ea_91dc_acde48001122row4_col5 {\n",
       "            background-color:  #3b4cc0;\n",
       "            color:  #f1f1f1;\n",
       "        }    #T_abe81c98_5598_11ea_91dc_acde48001122row4_col6 {\n",
       "            background-color:  #6485ec;\n",
       "            color:  #000000;\n",
       "        }    #T_abe81c98_5598_11ea_91dc_acde48001122row4_col7 {\n",
       "            background-color:  #6788ee;\n",
       "            color:  #000000;\n",
       "        }    #T_abe81c98_5598_11ea_91dc_acde48001122row4_col8 {\n",
       "            background-color:  #b2ccfb;\n",
       "            color:  #000000;\n",
       "        }    #T_abe81c98_5598_11ea_91dc_acde48001122row4_col9 {\n",
       "            background-color:  #3b4cc0;\n",
       "            color:  #f1f1f1;\n",
       "        }    #T_abe81c98_5598_11ea_91dc_acde48001122row5_col0 {\n",
       "            background-color:  #5e7de7;\n",
       "            color:  #000000;\n",
       "        }    #T_abe81c98_5598_11ea_91dc_acde48001122row5_col1 {\n",
       "            background-color:  #3c4ec2;\n",
       "            color:  #f1f1f1;\n",
       "        }    #T_abe81c98_5598_11ea_91dc_acde48001122row5_col2 {\n",
       "            background-color:  #445acc;\n",
       "            color:  #f1f1f1;\n",
       "        }    #T_abe81c98_5598_11ea_91dc_acde48001122row5_col3 {\n",
       "            background-color:  #6485ec;\n",
       "            color:  #000000;\n",
       "        }    #T_abe81c98_5598_11ea_91dc_acde48001122row5_col4 {\n",
       "            background-color:  #6180e9;\n",
       "            color:  #000000;\n",
       "        }    #T_abe81c98_5598_11ea_91dc_acde48001122row5_col5 {\n",
       "            background-color:  #b40426;\n",
       "            color:  #f1f1f1;\n",
       "        }    #T_abe81c98_5598_11ea_91dc_acde48001122row5_col6 {\n",
       "            background-color:  #6788ee;\n",
       "            color:  #000000;\n",
       "        }    #T_abe81c98_5598_11ea_91dc_acde48001122row5_col7 {\n",
       "            background-color:  #688aef;\n",
       "            color:  #000000;\n",
       "        }    #T_abe81c98_5598_11ea_91dc_acde48001122row5_col8 {\n",
       "            background-color:  #3b4cc0;\n",
       "            color:  #f1f1f1;\n",
       "        }    #T_abe81c98_5598_11ea_91dc_acde48001122row5_col9 {\n",
       "            background-color:  #6687ed;\n",
       "            color:  #000000;\n",
       "        }    #T_abe81c98_5598_11ea_91dc_acde48001122row6_col0 {\n",
       "            background-color:  #9dbdff;\n",
       "            color:  #000000;\n",
       "        }    #T_abe81c98_5598_11ea_91dc_acde48001122row6_col1 {\n",
       "            background-color:  #3d50c3;\n",
       "            color:  #f1f1f1;\n",
       "        }    #T_abe81c98_5598_11ea_91dc_acde48001122row6_col2 {\n",
       "            background-color:  #465ecf;\n",
       "            color:  #f1f1f1;\n",
       "        }    #T_abe81c98_5598_11ea_91dc_acde48001122row6_col3 {\n",
       "            background-color:  #5470de;\n",
       "            color:  #000000;\n",
       "        }    #T_abe81c98_5598_11ea_91dc_acde48001122row6_col4 {\n",
       "            background-color:  #6282ea;\n",
       "            color:  #000000;\n",
       "        }    #T_abe81c98_5598_11ea_91dc_acde48001122row6_col5 {\n",
       "            background-color:  #3f53c6;\n",
       "            color:  #f1f1f1;\n",
       "        }    #T_abe81c98_5598_11ea_91dc_acde48001122row6_col6 {\n",
       "            background-color:  #b40426;\n",
       "            color:  #f1f1f1;\n",
       "        }    #T_abe81c98_5598_11ea_91dc_acde48001122row6_col7 {\n",
       "            background-color:  #3b4cc0;\n",
       "            color:  #f1f1f1;\n",
       "        }    #T_abe81c98_5598_11ea_91dc_acde48001122row6_col8 {\n",
       "            background-color:  #3d50c3;\n",
       "            color:  #f1f1f1;\n",
       "        }    #T_abe81c98_5598_11ea_91dc_acde48001122row6_col9 {\n",
       "            background-color:  #6687ed;\n",
       "            color:  #000000;\n",
       "        }    #T_abe81c98_5598_11ea_91dc_acde48001122row7_col0 {\n",
       "            background-color:  #81a4fb;\n",
       "            color:  #000000;\n",
       "        }    #T_abe81c98_5598_11ea_91dc_acde48001122row7_col1 {\n",
       "            background-color:  #3c4ec2;\n",
       "            color:  #f1f1f1;\n",
       "        }    #T_abe81c98_5598_11ea_91dc_acde48001122row7_col2 {\n",
       "            background-color:  #3f53c6;\n",
       "            color:  #f1f1f1;\n",
       "        }    #T_abe81c98_5598_11ea_91dc_acde48001122row7_col3 {\n",
       "            background-color:  #4257c9;\n",
       "            color:  #f1f1f1;\n",
       "        }    #T_abe81c98_5598_11ea_91dc_acde48001122row7_col4 {\n",
       "            background-color:  #6485ec;\n",
       "            color:  #000000;\n",
       "        }    #T_abe81c98_5598_11ea_91dc_acde48001122row7_col5 {\n",
       "            background-color:  #4055c8;\n",
       "            color:  #f1f1f1;\n",
       "        }    #T_abe81c98_5598_11ea_91dc_acde48001122row7_col6 {\n",
       "            background-color:  #3b4cc0;\n",
       "            color:  #f1f1f1;\n",
       "        }    #T_abe81c98_5598_11ea_91dc_acde48001122row7_col7 {\n",
       "            background-color:  #b40426;\n",
       "            color:  #f1f1f1;\n",
       "        }    #T_abe81c98_5598_11ea_91dc_acde48001122row7_col8 {\n",
       "            background-color:  #3b4cc0;\n",
       "            color:  #f1f1f1;\n",
       "        }    #T_abe81c98_5598_11ea_91dc_acde48001122row7_col9 {\n",
       "            background-color:  #5f7fe8;\n",
       "            color:  #000000;\n",
       "        }    #T_abe81c98_5598_11ea_91dc_acde48001122row8_col0 {\n",
       "            background-color:  #799cf8;\n",
       "            color:  #000000;\n",
       "        }    #T_abe81c98_5598_11ea_91dc_acde48001122row8_col1 {\n",
       "            background-color:  #3d50c3;\n",
       "            color:  #f1f1f1;\n",
       "        }    #T_abe81c98_5598_11ea_91dc_acde48001122row8_col2 {\n",
       "            background-color:  #4358cb;\n",
       "            color:  #f1f1f1;\n",
       "        }    #T_abe81c98_5598_11ea_91dc_acde48001122row8_col3 {\n",
       "            background-color:  #6788ee;\n",
       "            color:  #000000;\n",
       "        }    #T_abe81c98_5598_11ea_91dc_acde48001122row8_col4 {\n",
       "            background-color:  #cbd8ee;\n",
       "            color:  #000000;\n",
       "        }    #T_abe81c98_5598_11ea_91dc_acde48001122row8_col5 {\n",
       "            background-color:  #3b4cc0;\n",
       "            color:  #f1f1f1;\n",
       "        }    #T_abe81c98_5598_11ea_91dc_acde48001122row8_col6 {\n",
       "            background-color:  #6687ed;\n",
       "            color:  #000000;\n",
       "        }    #T_abe81c98_5598_11ea_91dc_acde48001122row8_col7 {\n",
       "            background-color:  #6384eb;\n",
       "            color:  #000000;\n",
       "        }    #T_abe81c98_5598_11ea_91dc_acde48001122row8_col8 {\n",
       "            background-color:  #b40426;\n",
       "            color:  #f1f1f1;\n",
       "        }    #T_abe81c98_5598_11ea_91dc_acde48001122row8_col9 {\n",
       "            background-color:  #6282ea;\n",
       "            color:  #000000;\n",
       "        }    #T_abe81c98_5598_11ea_91dc_acde48001122row9_col0 {\n",
       "            background-color:  #5470de;\n",
       "            color:  #000000;\n",
       "        }    #T_abe81c98_5598_11ea_91dc_acde48001122row9_col1 {\n",
       "            background-color:  #3b4cc0;\n",
       "            color:  #f1f1f1;\n",
       "        }    #T_abe81c98_5598_11ea_91dc_acde48001122row9_col2 {\n",
       "            background-color:  #3c4ec2;\n",
       "            color:  #f1f1f1;\n",
       "        }    #T_abe81c98_5598_11ea_91dc_acde48001122row9_col3 {\n",
       "            background-color:  #4b64d5;\n",
       "            color:  #f1f1f1;\n",
       "        }    #T_abe81c98_5598_11ea_91dc_acde48001122row9_col4 {\n",
       "            background-color:  #3b4cc0;\n",
       "            color:  #f1f1f1;\n",
       "        }    #T_abe81c98_5598_11ea_91dc_acde48001122row9_col5 {\n",
       "            background-color:  #3f53c6;\n",
       "            color:  #f1f1f1;\n",
       "        }    #T_abe81c98_5598_11ea_91dc_acde48001122row9_col6 {\n",
       "            background-color:  #688aef;\n",
       "            color:  #000000;\n",
       "        }    #T_abe81c98_5598_11ea_91dc_acde48001122row9_col7 {\n",
       "            background-color:  #6282ea;\n",
       "            color:  #000000;\n",
       "        }    #T_abe81c98_5598_11ea_91dc_acde48001122row9_col8 {\n",
       "            background-color:  #3c4ec2;\n",
       "            color:  #f1f1f1;\n",
       "        }    #T_abe81c98_5598_11ea_91dc_acde48001122row9_col9 {\n",
       "            background-color:  #b40426;\n",
       "            color:  #f1f1f1;\n",
       "        }</style><table id=\"T_abe81c98_5598_11ea_91dc_acde48001122\" ><thead>    <tr>        <th class=\"blank level0\" ></th>        <th class=\"col_heading level0 col0\" >temp</th>        <th class=\"col_heading level0 col1\" >rain_1h</th>        <th class=\"col_heading level0 col2\" >snow_1h</th>        <th class=\"col_heading level0 col3\" >clouds_all</th>        <th class=\"col_heading level0 col4\" >traffic_volume</th>        <th class=\"col_heading level0 col5\" >day</th>        <th class=\"col_heading level0 col6\" >month</th>        <th class=\"col_heading level0 col7\" >year</th>        <th class=\"col_heading level0 col8\" >hour</th>        <th class=\"col_heading level0 col9\" >weekday</th>    </tr></thead><tbody>\n",
       "                <tr>\n",
       "                        <th id=\"T_abe81c98_5598_11ea_91dc_acde48001122level0_row0\" class=\"row_heading level0 row0\" >temp</th>\n",
       "                        <td id=\"T_abe81c98_5598_11ea_91dc_acde48001122row0_col0\" class=\"data row0 col0\" >1</td>\n",
       "                        <td id=\"T_abe81c98_5598_11ea_91dc_acde48001122row0_col1\" class=\"data row0 col1\" >0.00906854</td>\n",
       "                        <td id=\"T_abe81c98_5598_11ea_91dc_acde48001122row0_col2\" class=\"data row0 col2\" >-0.0197552</td>\n",
       "                        <td id=\"T_abe81c98_5598_11ea_91dc_acde48001122row0_col3\" class=\"data row0 col3\" >-0.101976</td>\n",
       "                        <td id=\"T_abe81c98_5598_11ea_91dc_acde48001122row0_col4\" class=\"data row0 col4\" >0.130299</td>\n",
       "                        <td id=\"T_abe81c98_5598_11ea_91dc_acde48001122row0_col5\" class=\"data row0 col5\" >0.0229017</td>\n",
       "                        <td id=\"T_abe81c98_5598_11ea_91dc_acde48001122row0_col6\" class=\"data row0 col6\" >0.223738</td>\n",
       "                        <td id=\"T_abe81c98_5598_11ea_91dc_acde48001122row0_col7\" class=\"data row0 col7\" >0.134945</td>\n",
       "                        <td id=\"T_abe81c98_5598_11ea_91dc_acde48001122row0_col8\" class=\"data row0 col8\" >0.112089</td>\n",
       "                        <td id=\"T_abe81c98_5598_11ea_91dc_acde48001122row0_col9\" class=\"data row0 col9\" >-0.00770762</td>\n",
       "            </tr>\n",
       "            <tr>\n",
       "                        <th id=\"T_abe81c98_5598_11ea_91dc_acde48001122level0_row1\" class=\"row_heading level0 row1\" >rain_1h</th>\n",
       "                        <td id=\"T_abe81c98_5598_11ea_91dc_acde48001122row1_col0\" class=\"data row1 col0\" >0.00906854</td>\n",
       "                        <td id=\"T_abe81c98_5598_11ea_91dc_acde48001122row1_col1\" class=\"data row1 col1\" >1</td>\n",
       "                        <td id=\"T_abe81c98_5598_11ea_91dc_acde48001122row1_col2\" class=\"data row1 col2\" >-8.98346e-05</td>\n",
       "                        <td id=\"T_abe81c98_5598_11ea_91dc_acde48001122row1_col3\" class=\"data row1 col3\" >0.00481813</td>\n",
       "                        <td id=\"T_abe81c98_5598_11ea_91dc_acde48001122row1_col4\" class=\"data row1 col4\" >0.0047137</td>\n",
       "                        <td id=\"T_abe81c98_5598_11ea_91dc_acde48001122row1_col5\" class=\"data row1 col5\" >-0.00229363</td>\n",
       "                        <td id=\"T_abe81c98_5598_11ea_91dc_acde48001122row1_col6\" class=\"data row1 col6\" >0.00129768</td>\n",
       "                        <td id=\"T_abe81c98_5598_11ea_91dc_acde48001122row1_col7\" class=\"data row1 col7\" >0.000441939</td>\n",
       "                        <td id=\"T_abe81c98_5598_11ea_91dc_acde48001122row1_col8\" class=\"data row1 col8\" >0.00342121</td>\n",
       "                        <td id=\"T_abe81c98_5598_11ea_91dc_acde48001122row1_col9\" class=\"data row1 col9\" >-0.00691954</td>\n",
       "            </tr>\n",
       "            <tr>\n",
       "                        <th id=\"T_abe81c98_5598_11ea_91dc_acde48001122level0_row2\" class=\"row_heading level0 row2\" >snow_1h</th>\n",
       "                        <td id=\"T_abe81c98_5598_11ea_91dc_acde48001122row2_col0\" class=\"data row2 col0\" >-0.0197552</td>\n",
       "                        <td id=\"T_abe81c98_5598_11ea_91dc_acde48001122row2_col1\" class=\"data row2 col1\" >-8.98346e-05</td>\n",
       "                        <td id=\"T_abe81c98_5598_11ea_91dc_acde48001122row2_col2\" class=\"data row2 col2\" >1</td>\n",
       "                        <td id=\"T_abe81c98_5598_11ea_91dc_acde48001122row2_col3\" class=\"data row2 col3\" >0.0279309</td>\n",
       "                        <td id=\"T_abe81c98_5598_11ea_91dc_acde48001122row2_col4\" class=\"data row2 col4\" >0.000733435</td>\n",
       "                        <td id=\"T_abe81c98_5598_11ea_91dc_acde48001122row2_col5\" class=\"data row2 col5\" >0.0157888</td>\n",
       "                        <td id=\"T_abe81c98_5598_11ea_91dc_acde48001122row2_col6\" class=\"data row2 col6\" >0.0204121</td>\n",
       "                        <td id=\"T_abe81c98_5598_11ea_91dc_acde48001122row2_col7\" class=\"data row2 col7\" >-0.00351937</td>\n",
       "                        <td id=\"T_abe81c98_5598_11ea_91dc_acde48001122row2_col8\" class=\"data row2 col8\" >0.00984913</td>\n",
       "                        <td id=\"T_abe81c98_5598_11ea_91dc_acde48001122row2_col9\" class=\"data row2 col9\" >-0.0149276</td>\n",
       "            </tr>\n",
       "            <tr>\n",
       "                        <th id=\"T_abe81c98_5598_11ea_91dc_acde48001122level0_row3\" class=\"row_heading level0 row3\" >clouds_all</th>\n",
       "                        <td id=\"T_abe81c98_5598_11ea_91dc_acde48001122row3_col0\" class=\"data row3 col0\" >-0.101976</td>\n",
       "                        <td id=\"T_abe81c98_5598_11ea_91dc_acde48001122row3_col1\" class=\"data row3 col1\" >0.00481813</td>\n",
       "                        <td id=\"T_abe81c98_5598_11ea_91dc_acde48001122row3_col2\" class=\"data row3 col2\" >0.0279309</td>\n",
       "                        <td id=\"T_abe81c98_5598_11ea_91dc_acde48001122row3_col3\" class=\"data row3 col3\" >1</td>\n",
       "                        <td id=\"T_abe81c98_5598_11ea_91dc_acde48001122row3_col4\" class=\"data row3 col4\" >0.0670538</td>\n",
       "                        <td id=\"T_abe81c98_5598_11ea_91dc_acde48001122row3_col5\" class=\"data row3 col5\" >0.0481116</td>\n",
       "                        <td id=\"T_abe81c98_5598_11ea_91dc_acde48001122row3_col6\" class=\"data row3 col6\" >-0.00913346</td>\n",
       "                        <td id=\"T_abe81c98_5598_11ea_91dc_acde48001122row3_col7\" class=\"data row3 col7\" >-0.0728609</td>\n",
       "                        <td id=\"T_abe81c98_5598_11ea_91dc_acde48001122row3_col8\" class=\"data row3 col8\" >0.054418</td>\n",
       "                        <td id=\"T_abe81c98_5598_11ea_91dc_acde48001122row3_col9\" class=\"data row3 col9\" >-0.0397152</td>\n",
       "            </tr>\n",
       "            <tr>\n",
       "                        <th id=\"T_abe81c98_5598_11ea_91dc_acde48001122level0_row4\" class=\"row_heading level0 row4\" >traffic_volume</th>\n",
       "                        <td id=\"T_abe81c98_5598_11ea_91dc_acde48001122row4_col0\" class=\"data row4 col0\" >0.130299</td>\n",
       "                        <td id=\"T_abe81c98_5598_11ea_91dc_acde48001122row4_col1\" class=\"data row4 col1\" >0.0047137</td>\n",
       "                        <td id=\"T_abe81c98_5598_11ea_91dc_acde48001122row4_col2\" class=\"data row4 col2\" >0.000733435</td>\n",
       "                        <td id=\"T_abe81c98_5598_11ea_91dc_acde48001122row4_col3\" class=\"data row4 col3\" >0.0670538</td>\n",
       "                        <td id=\"T_abe81c98_5598_11ea_91dc_acde48001122row4_col4\" class=\"data row4 col4\" >1</td>\n",
       "                        <td id=\"T_abe81c98_5598_11ea_91dc_acde48001122row4_col5\" class=\"data row4 col5\" >-0.00758739</td>\n",
       "                        <td id=\"T_abe81c98_5598_11ea_91dc_acde48001122row4_col6\" class=\"data row4 col6\" >-0.00253292</td>\n",
       "                        <td id=\"T_abe81c98_5598_11ea_91dc_acde48001122row4_col7\" class=\"data row4 col7\" >0.00475323</td>\n",
       "                        <td id=\"T_abe81c98_5598_11ea_91dc_acde48001122row4_col8\" class=\"data row4 col8\" >0.352401</td>\n",
       "                        <td id=\"T_abe81c98_5598_11ea_91dc_acde48001122row4_col9\" class=\"data row4 col9\" >-0.149544</td>\n",
       "            </tr>\n",
       "            <tr>\n",
       "                        <th id=\"T_abe81c98_5598_11ea_91dc_acde48001122level0_row5\" class=\"row_heading level0 row5\" >day</th>\n",
       "                        <td id=\"T_abe81c98_5598_11ea_91dc_acde48001122row5_col0\" class=\"data row5 col0\" >0.0229017</td>\n",
       "                        <td id=\"T_abe81c98_5598_11ea_91dc_acde48001122row5_col1\" class=\"data row5 col1\" >-0.00229363</td>\n",
       "                        <td id=\"T_abe81c98_5598_11ea_91dc_acde48001122row5_col2\" class=\"data row5 col2\" >0.0157888</td>\n",
       "                        <td id=\"T_abe81c98_5598_11ea_91dc_acde48001122row5_col3\" class=\"data row5 col3\" >0.0481116</td>\n",
       "                        <td id=\"T_abe81c98_5598_11ea_91dc_acde48001122row5_col4\" class=\"data row5 col4\" >-0.00758739</td>\n",
       "                        <td id=\"T_abe81c98_5598_11ea_91dc_acde48001122row5_col5\" class=\"data row5 col5\" >1</td>\n",
       "                        <td id=\"T_abe81c98_5598_11ea_91dc_acde48001122row5_col6\" class=\"data row5 col6\" >0.00861361</td>\n",
       "                        <td id=\"T_abe81c98_5598_11ea_91dc_acde48001122row5_col7\" class=\"data row5 col7\" >0.0121924</td>\n",
       "                        <td id=\"T_abe81c98_5598_11ea_91dc_acde48001122row5_col8\" class=\"data row5 col8\" >-0.00937314</td>\n",
       "                        <td id=\"T_abe81c98_5598_11ea_91dc_acde48001122row5_col9\" class=\"data row5 col9\" >0.0086776</td>\n",
       "            </tr>\n",
       "            <tr>\n",
       "                        <th id=\"T_abe81c98_5598_11ea_91dc_acde48001122level0_row6\" class=\"row_heading level0 row6\" >month</th>\n",
       "                        <td id=\"T_abe81c98_5598_11ea_91dc_acde48001122row6_col0\" class=\"data row6 col0\" >0.223738</td>\n",
       "                        <td id=\"T_abe81c98_5598_11ea_91dc_acde48001122row6_col1\" class=\"data row6 col1\" >0.00129768</td>\n",
       "                        <td id=\"T_abe81c98_5598_11ea_91dc_acde48001122row6_col2\" class=\"data row6 col2\" >0.0204121</td>\n",
       "                        <td id=\"T_abe81c98_5598_11ea_91dc_acde48001122row6_col3\" class=\"data row6 col3\" >-0.00913346</td>\n",
       "                        <td id=\"T_abe81c98_5598_11ea_91dc_acde48001122row6_col4\" class=\"data row6 col4\" >-0.00253292</td>\n",
       "                        <td id=\"T_abe81c98_5598_11ea_91dc_acde48001122row6_col5\" class=\"data row6 col5\" >0.00861361</td>\n",
       "                        <td id=\"T_abe81c98_5598_11ea_91dc_acde48001122row6_col6\" class=\"data row6 col6\" >1</td>\n",
       "                        <td id=\"T_abe81c98_5598_11ea_91dc_acde48001122row6_col7\" class=\"data row6 col7\" >-0.158688</td>\n",
       "                        <td id=\"T_abe81c98_5598_11ea_91dc_acde48001122row6_col8\" class=\"data row6 col8\" >0.00186516</td>\n",
       "                        <td id=\"T_abe81c98_5598_11ea_91dc_acde48001122row6_col9\" class=\"data row6 col9\" >0.010741</td>\n",
       "            </tr>\n",
       "            <tr>\n",
       "                        <th id=\"T_abe81c98_5598_11ea_91dc_acde48001122level0_row7\" class=\"row_heading level0 row7\" >year</th>\n",
       "                        <td id=\"T_abe81c98_5598_11ea_91dc_acde48001122row7_col0\" class=\"data row7 col0\" >0.134945</td>\n",
       "                        <td id=\"T_abe81c98_5598_11ea_91dc_acde48001122row7_col1\" class=\"data row7 col1\" >0.000441939</td>\n",
       "                        <td id=\"T_abe81c98_5598_11ea_91dc_acde48001122row7_col2\" class=\"data row7 col2\" >-0.00351937</td>\n",
       "                        <td id=\"T_abe81c98_5598_11ea_91dc_acde48001122row7_col3\" class=\"data row7 col3\" >-0.0728609</td>\n",
       "                        <td id=\"T_abe81c98_5598_11ea_91dc_acde48001122row7_col4\" class=\"data row7 col4\" >0.00475323</td>\n",
       "                        <td id=\"T_abe81c98_5598_11ea_91dc_acde48001122row7_col5\" class=\"data row7 col5\" >0.0121924</td>\n",
       "                        <td id=\"T_abe81c98_5598_11ea_91dc_acde48001122row7_col6\" class=\"data row7 col6\" >-0.158688</td>\n",
       "                        <td id=\"T_abe81c98_5598_11ea_91dc_acde48001122row7_col7\" class=\"data row7 col7\" >1</td>\n",
       "                        <td id=\"T_abe81c98_5598_11ea_91dc_acde48001122row7_col8\" class=\"data row7 col8\" >-0.00754237</td>\n",
       "                        <td id=\"T_abe81c98_5598_11ea_91dc_acde48001122row7_col9\" class=\"data row7 col9\" >-0.012313</td>\n",
       "            </tr>\n",
       "            <tr>\n",
       "                        <th id=\"T_abe81c98_5598_11ea_91dc_acde48001122level0_row8\" class=\"row_heading level0 row8\" >hour</th>\n",
       "                        <td id=\"T_abe81c98_5598_11ea_91dc_acde48001122row8_col0\" class=\"data row8 col0\" >0.112089</td>\n",
       "                        <td id=\"T_abe81c98_5598_11ea_91dc_acde48001122row8_col1\" class=\"data row8 col1\" >0.00342121</td>\n",
       "                        <td id=\"T_abe81c98_5598_11ea_91dc_acde48001122row8_col2\" class=\"data row8 col2\" >0.00984913</td>\n",
       "                        <td id=\"T_abe81c98_5598_11ea_91dc_acde48001122row8_col3\" class=\"data row8 col3\" >0.054418</td>\n",
       "                        <td id=\"T_abe81c98_5598_11ea_91dc_acde48001122row8_col4\" class=\"data row8 col4\" >0.352401</td>\n",
       "                        <td id=\"T_abe81c98_5598_11ea_91dc_acde48001122row8_col5\" class=\"data row8 col5\" >-0.00937314</td>\n",
       "                        <td id=\"T_abe81c98_5598_11ea_91dc_acde48001122row8_col6\" class=\"data row8 col6\" >0.00186516</td>\n",
       "                        <td id=\"T_abe81c98_5598_11ea_91dc_acde48001122row8_col7\" class=\"data row8 col7\" >-0.00754237</td>\n",
       "                        <td id=\"T_abe81c98_5598_11ea_91dc_acde48001122row8_col8\" class=\"data row8 col8\" >1</td>\n",
       "                        <td id=\"T_abe81c98_5598_11ea_91dc_acde48001122row8_col9\" class=\"data row8 col9\" >-0.00385763</td>\n",
       "            </tr>\n",
       "            <tr>\n",
       "                        <th id=\"T_abe81c98_5598_11ea_91dc_acde48001122level0_row9\" class=\"row_heading level0 row9\" >weekday</th>\n",
       "                        <td id=\"T_abe81c98_5598_11ea_91dc_acde48001122row9_col0\" class=\"data row9 col0\" >-0.00770762</td>\n",
       "                        <td id=\"T_abe81c98_5598_11ea_91dc_acde48001122row9_col1\" class=\"data row9 col1\" >-0.00691954</td>\n",
       "                        <td id=\"T_abe81c98_5598_11ea_91dc_acde48001122row9_col2\" class=\"data row9 col2\" >-0.0149276</td>\n",
       "                        <td id=\"T_abe81c98_5598_11ea_91dc_acde48001122row9_col3\" class=\"data row9 col3\" >-0.0397152</td>\n",
       "                        <td id=\"T_abe81c98_5598_11ea_91dc_acde48001122row9_col4\" class=\"data row9 col4\" >-0.149544</td>\n",
       "                        <td id=\"T_abe81c98_5598_11ea_91dc_acde48001122row9_col5\" class=\"data row9 col5\" >0.0086776</td>\n",
       "                        <td id=\"T_abe81c98_5598_11ea_91dc_acde48001122row9_col6\" class=\"data row9 col6\" >0.010741</td>\n",
       "                        <td id=\"T_abe81c98_5598_11ea_91dc_acde48001122row9_col7\" class=\"data row9 col7\" >-0.012313</td>\n",
       "                        <td id=\"T_abe81c98_5598_11ea_91dc_acde48001122row9_col8\" class=\"data row9 col8\" >-0.00385763</td>\n",
       "                        <td id=\"T_abe81c98_5598_11ea_91dc_acde48001122row9_col9\" class=\"data row9 col9\" >1</td>\n",
       "            </tr>\n",
       "    </tbody></table>"
      ],
      "text/plain": [
       "<pandas.io.formats.style.Styler at 0x1a2913c050>"
      ]
     },
     "execution_count": 145,
     "metadata": {},
     "output_type": "execute_result"
    }
   ],
   "source": [
    "correl = df.corr()\n",
    "correl.style.background_gradient(cmap = 'coolwarm')"
   ]
  },
  {
   "cell_type": "code",
   "execution_count": 146,
   "metadata": {},
   "outputs": [
    {
     "data": {
      "text/plain": [
       "<matplotlib.axes._subplots.AxesSubplot at 0x1a27148c50>"
      ]
     },
     "execution_count": 146,
     "metadata": {},
     "output_type": "execute_result"
    },
    {
     "data": {
      "image/png": "[encoded data removed]",
      "text/plain": [
       "<Figure size 432x288 with 1 Axes>"
      ]
     },
     "metadata": {
      "needs_background": "light"
     },
     "output_type": "display_data"
    }
   ],
   "source": [
    "df.corr().abs()[\"traffic_volume\"].sort_values().plot.bar()"
   ]
  },
  {
   "cell_type": "markdown",
   "metadata": {},
   "source": [
    "A análise da correlação dos atributos mostra que todos os pares distintos possuem uma correlação fraca, em relação ao atributo desejado 'traffic_volume', os atributos 'snow_1h' 'month' 'rain_1h' 'year' e 'day' apresentam uma correlação baixíssima e portanto foram descartados, uma vez que estes não contribuem para determinar o valor do atributo alvo."
   ]
  },
  {
   "cell_type": "code",
   "execution_count": 147,
   "metadata": {},
   "outputs": [],
   "source": [
    "df.drop(columns = ['snow_1h', 'month', 'rain_1h', 'year', 'day'], inplace = True)"
   ]
  },
  {
   "cell_type": "markdown",
   "metadata": {},
   "source": [
    "O atributo 'hour' é o que possui a maior correlação em relação a 'traffic_volume', contudo, isso pode ser explicado pelo fato de que os horários de pico coincidem com os maiores valores de hora:"
   ]
  },
  {
   "cell_type": "code",
   "execution_count": 148,
   "metadata": {},
   "outputs": [
    {
     "data": {
      "text/plain": [
       "Text(0, 0.5, 'Tráfego')"
      ]
     },
     "execution_count": 148,
     "metadata": {},
     "output_type": "execute_result"
    },
    {
     "data": {
      "image/png": "[encoded data removed]",
      "text/plain": [
       "<Figure size 432x288 with 1 Axes>"
      ]
     },
     "metadata": {
      "needs_background": "light"
     },
     "output_type": "display_data"
    }
   ],
   "source": [
    "plt.scatter(df['hour'], df['traffic_volume'])\n",
    "plt.xlabel(\"Hora\")\n",
    "plt.ylabel(\"Tráfego\")"
   ]
  },
  {
   "cell_type": "markdown",
   "metadata": {},
   "source": [
    "Ainda no gráfico acima é possível ver que existem vários outliers, contudo, por ora, não será tomada nenhuma ação adicional."
   ]
  },
  {
   "cell_type": "markdown",
   "metadata": {},
   "source": [
    "## Normalização dos atributos\n",
    "Para evitar dar um peso maior a um atributo específico é feita a normalização destes por meio da padronização, que pode vir a lidar melhor com outliers não tratados anteriormente."
   ]
  },
  {
   "cell_type": "code",
   "execution_count": 149,
   "metadata": {},
   "outputs": [
    {
     "data": {
      "text/html": [
       "<div>\n",
       "<style scoped>\n",
       "    .dataframe tbody tr th:only-of-type {\n",
       "        vertical-align: middle;\n",
       "    }\n",
       "\n",
       "    .dataframe tbody tr th {\n",
       "        vertical-align: top;\n",
       "    }\n",
       "\n",
       "    .dataframe thead th {\n",
       "        text-align: right;\n",
       "    }\n",
       "</style>\n",
       "<table border=\"1\" class=\"dataframe\">\n",
       "  <thead>\n",
       "    <tr style=\"text-align: right;\">\n",
       "      <th></th>\n",
       "      <th>temp</th>\n",
       "      <th>clouds_all</th>\n",
       "      <th>hour</th>\n",
       "      <th>weekday</th>\n",
       "      <th>traffic_volume</th>\n",
       "    </tr>\n",
       "  </thead>\n",
       "  <tbody>\n",
       "    <tr>\n",
       "      <td>0</td>\n",
       "      <td>0.530370</td>\n",
       "      <td>-0.239963</td>\n",
       "      <td>-0.345548</td>\n",
       "      <td>-0.989561</td>\n",
       "      <td>5545</td>\n",
       "    </tr>\n",
       "    <tr>\n",
       "      <td>1</td>\n",
       "      <td>0.611341</td>\n",
       "      <td>0.657120</td>\n",
       "      <td>-0.201459</td>\n",
       "      <td>-0.989561</td>\n",
       "      <td>4516</td>\n",
       "    </tr>\n",
       "    <tr>\n",
       "      <td>2</td>\n",
       "      <td>0.627836</td>\n",
       "      <td>1.041584</td>\n",
       "      <td>-0.057371</td>\n",
       "      <td>-0.989561</td>\n",
       "      <td>4767</td>\n",
       "    </tr>\n",
       "    <tr>\n",
       "      <td>3</td>\n",
       "      <td>0.669071</td>\n",
       "      <td>1.041584</td>\n",
       "      <td>0.086718</td>\n",
       "      <td>-0.989561</td>\n",
       "      <td>5026</td>\n",
       "    </tr>\n",
       "    <tr>\n",
       "      <td>4</td>\n",
       "      <td>0.744794</td>\n",
       "      <td>0.657120</td>\n",
       "      <td>0.230807</td>\n",
       "      <td>-0.989561</td>\n",
       "      <td>4918</td>\n",
       "    </tr>\n",
       "  </tbody>\n",
       "</table>\n",
       "</div>"
      ],
      "text/plain": [
       "       temp  clouds_all      hour   weekday  traffic_volume\n",
       "0  0.530370   -0.239963 -0.345548 -0.989561            5545\n",
       "1  0.611341    0.657120 -0.201459 -0.989561            4516\n",
       "2  0.627836    1.041584 -0.057371 -0.989561            4767\n",
       "3  0.669071    1.041584  0.086718 -0.989561            5026\n",
       "4  0.744794    0.657120  0.230807 -0.989561            4918"
      ]
     },
     "execution_count": 149,
     "metadata": {},
     "output_type": "execute_result"
    }
   ],
   "source": [
    "num = df.select_dtypes(['float64', 'int64']).columns.values\n",
    "num = np.delete(num, np.argwhere(num == 'traffic_volume'))\n",
    "\n",
    "scaler = preprocessing.StandardScaler()\n",
    "scaled = pd.concat([pd.DataFrame(scaler.fit_transform(df[num]), columns = num), df['traffic_volume']], axis=1)\n",
    "\n",
    "scaled.head()"
   ]
  },
  {
   "cell_type": "markdown",
   "metadata": {},
   "source": [
    "### Teste usando split 70/30 aleatório\n",
    "Inicialmente é feita a divisão das partições usando 70% para treinamento e 30% para teste, esta divisão foi realizada duas vezes de maneira aleatória."
   ]
  },
  {
   "cell_type": "code",
   "execution_count": 150,
   "metadata": {},
   "outputs": [],
   "source": [
    "train1, test1 = model_selection.train_test_split(scaled.copy(), test_size = 0.3, random_state = 7, shuffle = True)\n",
    "train2, test2 = model_selection.train_test_split(scaled.copy(), test_size = 0.3, random_state = 8, shuffle = True)\n",
    "\n",
    "trainTarget1 = train1['traffic_volume'].copy()\n",
    "testTarget1 = test1['traffic_volume'].copy()\n",
    "\n",
    "train1.drop(columns = ['traffic_volume'], inplace = True)\n",
    "test1.drop(columns = ['traffic_volume'], inplace = True)\n",
    "\n",
    "trainTarget2 = train2['traffic_volume'].copy()\n",
    "testTarget2 = test2['traffic_volume'].copy()\n",
    "\n",
    "train2.drop(columns = ['traffic_volume'], inplace = True)\n",
    "test2.drop(columns = ['traffic_volume'], inplace = True)"
   ]
  },
  {
   "cell_type": "markdown",
   "metadata": {},
   "source": [
    "O primeiro algoritmo utilizado será o K-NN com k = 3"
   ]
  },
  {
   "cell_type": "code",
   "execution_count": 151,
   "metadata": {},
   "outputs": [],
   "source": [
    "k = 3\n",
    "\n",
    "knn = neighbors.KNeighborsRegressor(n_neighbors = k)\n",
    "knn.fit(train1, trainTarget1)\n",
    "resultKNN1 = knn.predict(test1)\n",
    "\n",
    "knn.fit(train2, trainTarget2)\n",
    "resultKNN2 = knn.predict(test2)"
   ]
  },
  {
   "cell_type": "markdown",
   "metadata": {},
   "source": [
    "Após executar o algoritmo, podemos obter o erro médio quadrático (MSE) e o erro médio absoluto (MAD), além da medida R2 em cada uma das execuções:"
   ]
  },
  {
   "cell_type": "code",
   "execution_count": 152,
   "metadata": {},
   "outputs": [
    {
     "name": "stdout",
     "output_type": "stream",
     "text": [
      "(Run = 1)\n",
      "K-NN (k = 3)\n",
      "MSE: 319253.95154\n",
      "MAD: 330.97345\n",
      "R2: 0.91963\n",
      "\n",
      "(Run = 2)\n",
      "K-NN (k = 3)\n",
      "MSE: 296804.08781\n",
      "MAD: 327.68697\n",
      "R2: 0.92491\n"
     ]
    }
   ],
   "source": [
    "print(\"(Run = 1)\\nK-NN (k = %d)\" % (k))\n",
    "print(\"MSE: %0.5f\" % (metrics.mean_squared_error(testTarget1, resultKNN1)))\n",
    "print(\"MAD: %0.5f\" % (metrics.mean_absolute_error(testTarget1, resultKNN1)))\n",
    "print(\"R2: %0.5f\" % (metrics.r2_score(testTarget1, resultKNN1)))\n",
    "\n",
    "print(\"\\n(Run = 2)\\nK-NN (k = %d)\" % (k))\n",
    "print(\"MSE: %0.5f\" % (metrics.mean_squared_error(testTarget2, resultKNN2)))\n",
    "print(\"MAD: %0.5f\" % (metrics.mean_absolute_error(testTarget2, resultKNN2)))\n",
    "print(\"R2: %0.5f\" % (metrics.r2_score(testTarget2, resultKNN2)))"
   ]
  },
  {
   "cell_type": "code",
   "execution_count": 153,
   "metadata": {},
   "outputs": [
    {
     "data": {
      "text/plain": [
       "Text(0.5, 0, 'Obtido')"
      ]
     },
     "execution_count": 153,
     "metadata": {},
     "output_type": "execute_result"
    },
    {
     "data": {
      "image/png": "[encoded data removed]",
      "text/plain": [
       "<Figure size 432x288 with 1 Axes>"
      ]
     },
     "metadata": {
      "needs_background": "light"
     },
     "output_type": "display_data"
    }
   ],
   "source": [
    "plt.scatter(resultKNN2, testTarget2)\n",
    "plt.ylabel('Atual')\n",
    "plt.xlabel('Obtido')"
   ]
  },
  {
   "cell_type": "markdown",
   "metadata": {},
   "source": [
    "Em ambas execuções o resultado obtido foi muito parecido. As métricas e o gráfico obtidos acima levam a crer que o modelo conseguiu prever bem o atributo desejado na maior parte dos casos e de maneira consistente, pois mesmo utilizando conjuntos diferentes para treinamento e teste, os resultados obtidos foram semelhantes, porém, como visto no gráfico acima, falhou miseralvelmente em alguns casos, muito por conta da falta de tratamento adequado de outlier.\n",
    "\n",
    "O segundo algoritmo utilizado será uma árvore de decisão para regressão, enquanto o conjunto de teste e treinamento utilizado será o mesmo do que foi utilizado no K-NN."
   ]
  },
  {
   "cell_type": "code",
   "execution_count": 163,
   "metadata": {},
   "outputs": [],
   "source": [
    "dtr = tree.DecisionTreeRegressor()\n",
    "\n",
    "dtr.fit(train1, trainTarget1)\n",
    "resultTree1 = dtr.predict(test1)\n",
    "\n",
    "dtr.fit(train2, trainTarget2)\n",
    "resultTree2 = dtr.predict(test2)\n",
    "rs = dtr.predict(train2)"
   ]
  },
  {
   "cell_type": "code",
   "execution_count": 164,
   "metadata": {},
   "outputs": [
    {
     "name": "stdout",
     "output_type": "stream",
     "text": [
      "(Run = 1)\n",
      "Decision Tree Regression\n",
      "MSE: 353931.48662\n",
      "MAD: 298.04878\n",
      "R2: 0.91090\n",
      "\n",
      "(Run = 2)\n",
      "Decision Tree Regression\n",
      "MSE: 355716.08977\n",
      "MAD: 301.67507\n",
      "R2: 0.91000\n"
     ]
    }
   ],
   "source": [
    "print(\"(Run = 1)\\nDecision Tree Regression\")\n",
    "print(\"MSE: %0.5f\" % (metrics.mean_squared_error(testTarget1, resultTree1)))\n",
    "print(\"MAD: %0.5f\" % (metrics.mean_absolute_error(testTarget1, resultTree1)))\n",
    "print(\"R2: %0.5f\" % (metrics.r2_score(testTarget1, resultTree1)))\n",
    "\n",
    "print(\"\\n(Run = 2)\\nDecision Tree Regression\")\n",
    "print(\"MSE: %0.5f\" % (metrics.mean_squared_error(testTarget2, resultTree2)))\n",
    "print(\"MAD: %0.5f\" % (metrics.mean_absolute_error(testTarget2, resultTree2)))\n",
    "print(\"R2: %0.5f\" % (metrics.r2_score(testTarget2, resultTree2)))"
   ]
  },
  {
   "cell_type": "code",
   "execution_count": 165,
   "metadata": {},
   "outputs": [
    {
     "data": {
      "text/plain": [
       "Text(0.5, 0, 'Obtido')"
      ]
     },
     "execution_count": 165,
     "metadata": {},
     "output_type": "execute_result"
    },
    {
     "data": {
      "image/png": "[encoded data removed]",
      "text/plain": [
       "<Figure size 432x288 with 1 Axes>"
      ]
     },
     "metadata": {
      "needs_background": "light"
     },
     "output_type": "display_data"
    }
   ],
   "source": [
    "plt.scatter(resultTree2, testTarget2)\n",
    "plt.ylabel('Atual')\n",
    "plt.xlabel('Obtido')"
   ]
  },
  {
   "cell_type": "markdown",
   "metadata": {},
   "source": [
    "Usando a árvore de decisão os resultados obtidos foram bastante semelhantes ao do K-NN e também consistentes, contudo, o KNN foi ligeiramente superior nas métricas R2 e no erro médio quadrático (MSE), enquanto a árvore apresentou resultados melhores no caso do erro médio absoluto. Porém, assim como no K-NN, a árvore de decisão errou por muito em alguns casos, provavelmente por conta da falta de tratamento adequado de outliers realizado na base de dados. Por fim, em ambos os testes e algoritmos, não aparenta ter acontecido um caso de overfitting ou underfitting, pelo fato de que mesmo atuando sobre conjuntos diferentes o resultado obtido foi praticamente igual."
   ]
  },
  {
   "cell_type": "markdown",
   "metadata": {},
   "source": [
    "## Teste usando validação cruzada\n",
    "Utilizando os mesmos algoritmos acima, agora os dados serão divididos em 10 grupos, sendo 9 utilizados para treinamento e 1 utilizado para teste, onde os algoritmos serão executados sobre estes grupos repetidamente até que todo grupo ter sido usado para teste."
   ]
  },
  {
   "cell_type": "code",
   "execution_count": 168,
   "metadata": {},
   "outputs": [
    {
     "name": "stdout",
     "output_type": "stream",
     "text": [
      "KNN (k = 3)\n",
      "MSE: 287165.04162\n",
      "MAD: 312.11132\n",
      "R2: 0.92726\n",
      "\n",
      "DECISION TREE REGRESSION\n",
      "MSE: 339596.76516\n",
      "MAD: 287.20424\n",
      "R2: 0.91397\n"
     ]
    }
   ],
   "source": [
    "fold = model_selection.KFold(n_splits = 10, random_state = 7, shuffle = True)\n",
    "\n",
    "X = scaled.copy(deep = True)\n",
    "Y = X['traffic_volume']\n",
    "\n",
    "X.drop(columns = ['traffic_volume'], inplace = True)\n",
    "\n",
    "k = 3\n",
    "i = 1\n",
    "\n",
    "knn = neighbors.KNeighborsRegressor(n_neighbors = k)\n",
    "dtr = tree.DecisionTreeRegressor()\n",
    "mse_knn = mad_knn = r2_knn = 0\n",
    "mse_dtr = mad_dtr = r2_dtr = 0\n",
    "\n",
    "for train_index, test_index in fold.split(scaled):\n",
    "    X_train, X_test = X.iloc[train_index], X.iloc[test_index]\n",
    "    Y_train, Y_test = Y.iloc[train_index], Y.iloc[test_index]\n",
    "    \n",
    "    knn.fit(X_train, Y_train)\n",
    "    resultKNN = knn.predict(X_test)\n",
    "    \n",
    "    mse_knn = mse_knn + metrics.mean_squared_error(Y_test, resultKNN)\n",
    "    mad_knn = mad_knn + metrics.mean_absolute_error(Y_test, resultKNN)\n",
    "    r2_knn = r2_knn + metrics.r2_score(Y_test, resultKNN)\n",
    "    \n",
    "    dtr.fit(X_train, Y_train)\n",
    "    resultDTR = dtr.predict(X_test)\n",
    "    \n",
    "    mse_dtr = mse_dtr + metrics.mean_squared_error(Y_test, resultDTR)\n",
    "    mad_dtr = mad_dtr + metrics.mean_absolute_error(Y_test, resultDTR)\n",
    "    r2_dtr = r2_dtr + metrics.r2_score(Y_test, resultDTR)\n",
    "\n",
    "print(\"KNN (k = %d)\" % (k))\n",
    "print(\"MSE: %0.5f\" % (mse_knn / 10))\n",
    "print(\"MAD: %0.5f\" % (mad_knn / 10))\n",
    "print(\"R2: %0.5f\" % (r2_knn / 10))\n",
    "\n",
    "print(\"\\nDECISION TREE REGRESSION\")\n",
    "print(\"MSE: %0.5f\" % (mse_dtr / 10))\n",
    "print(\"MAD: %0.5f\" % (mad_dtr / 10))\n",
    "print(\"R2: %0.5f\" % (r2_dtr / 10))"
   ]
  },
  {
   "cell_type": "markdown",
   "metadata": {},
   "source": [
    "Usando a validação cruzada, os resultados obtidos foram similares em relação a aqueles vistos anteriormente usando o particionamento.\n",
    "\n",
    "Novamente, o KNN mostrou ser ligeiramente superior a árvore de decisão. Em ambos os casos, não aparenta ter acontecido um overfitting ou underfitting, tendo o modelo se adaptado bem aos diferentes conjuntos utilizados por conta de um valor bastante alto do R^2."
   ]
  },
  {
   "cell_type": "code",
   "execution_count": null,
   "metadata": {},
   "outputs": [],
   "source": []
  }
 ],
 "metadata": {
  "kernelspec": {
   "display_name": "Python 3",
   "language": "python",
   "name": "python3"
  },
  "language_info": {
   "codemirror_mode": {
    "name": "ipython",
    "version": 3
   },
   "file_extension": ".py",
   "mimetype": "text/x-python",
   "name": "python",
   "nbconvert_exporter": "python",
   "pygments_lexer": "ipython3",
   "version": "3.7.4"
  }
 },
 "nbformat": 4,
 "nbformat_minor": 2
}
